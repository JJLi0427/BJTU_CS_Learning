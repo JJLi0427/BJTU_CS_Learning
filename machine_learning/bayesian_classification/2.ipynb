{
 "cells": [
  {
   "cell_type": "markdown",
   "metadata": {},
   "source": [
    "# 第二题：实现一个高斯朴素贝叶斯分类器"
   ]
  },
  {
   "cell_type": "markdown",
   "metadata": {},
   "source": [
    "实验内容：\n",
    "1. 实现高斯朴素贝叶斯分类器\n",
    "2. 计算模型的查准率，查全率，F1值"
   ]
  },
  {
   "cell_type": "markdown",
   "metadata": {},
   "source": [
    "# 1. 导入数据集"
   ]
  },
  {
   "cell_type": "code",
   "execution_count": 1,
   "metadata": {},
   "outputs": [],
   "source": [
    "import numpy as np"
   ]
  },
  {
   "cell_type": "code",
   "execution_count": 2,
   "metadata": {},
   "outputs": [],
   "source": [
    "spambase = np.loadtxt('data/spambase/spambase.data', delimiter = \",\")\n",
    "spamx = spambase[:, :57]\n",
    "spamy = spambase[:, 57]"
   ]
  },
  {
   "cell_type": "markdown",
   "metadata": {},
   "source": [
    "# 2. 划分数据集"
   ]
  },
  {
   "cell_type": "code",
   "execution_count": 3,
   "metadata": {},
   "outputs": [],
   "source": [
    "from sklearn.model_selection import train_test_split\n",
    "trainX, testX, trainY, testY = train_test_split(spamx, spamy, test_size = 0.4, random_state = 32)"
   ]
  },
  {
   "cell_type": "code",
   "execution_count": 4,
   "metadata": {
    "scrolled": false
   },
   "outputs": [
    {
     "data": {
      "text/plain": [
       "((2760, 57), (2760,), (1841, 57), (1841,))"
      ]
     },
     "execution_count": 4,
     "metadata": {},
     "output_type": "execute_result"
    }
   ],
   "source": [
    "trainX.shape, trainY.shape, testX.shape, testY.shape"
   ]
  },
  {
   "cell_type": "markdown",
   "metadata": {},
   "source": [
    "# 3. 实现高斯朴素贝叶斯"
   ]
  },
  {
   "cell_type": "markdown",
   "metadata": {},
   "source": [
    "朴素贝叶斯的实现非常简单，但是首先需要大家掌握几个技巧的使用"
   ]
  },
  {
   "cell_type": "markdown",
   "metadata": {},
   "source": [
    "### 1. python dict\n",
    "\n",
    "python的字典，给定字典a，使用`a[key] = value`，将 `{key: value}` 键值对添加进a中"
   ]
  },
  {
   "cell_type": "code",
   "execution_count": 5,
   "metadata": {},
   "outputs": [],
   "source": [
    "test_dict = dict()\n",
    "# 将 {'a': 1} 存入test_dict\n",
    "# YOUR CODE HERE\n",
    "test_dict = {'a': 1}"
   ]
  },
  {
   "cell_type": "code",
   "execution_count": 6,
   "metadata": {},
   "outputs": [
    {
     "name": "stdout",
     "output_type": "stream",
     "text": [
      "1\n"
     ]
    }
   ],
   "source": [
    "print(test_dict['a']) # 1"
   ]
  },
  {
   "cell_type": "markdown",
   "metadata": {},
   "source": [
    "### 2. np.mean\n",
    "\n",
    "求均值，使用 `axis = 0` 这个参数对每列取均值，`axis = 1` 对每行取均值，使用 `keepdims = True` 使结果保持之前的维数。"
   ]
  },
  {
   "cell_type": "code",
   "execution_count": 7,
   "metadata": {},
   "outputs": [
    {
     "name": "stdout",
     "output_type": "stream",
     "text": [
      "(1813, 57)\n"
     ]
    }
   ],
   "source": [
    "test_matrix = spamx[spamy == 1, :]\n",
    "print(test_matrix.shape)"
   ]
  },
  {
   "cell_type": "code",
   "execution_count": 8,
   "metadata": {},
   "outputs": [],
   "source": [
    "# 求 test_matrix 每列的均值，存入test_mean中\n",
    "# YOUR CODE HERE\n",
    "test_mean = np.mean(test_matrix, axis=0)"
   ]
  },
  {
   "cell_type": "code",
   "execution_count": 9,
   "metadata": {},
   "outputs": [
    {
     "name": "stdout",
     "output_type": "stream",
     "text": [
      "595.0620441257583\n",
      "(57,)\n"
     ]
    }
   ],
   "source": [
    "print(test_mean.sum()) # 595.062044126\n",
    "print(test_mean.shape) # (1, 57)"
   ]
  },
  {
   "cell_type": "markdown",
   "metadata": {},
   "source": [
    "### 3. np.var\n",
    "\n",
    "求方差，使用 `axis = 0` 这个参数对每列取方差，`axis = 1` 对每行取方差，使用 `keepdims = True` 使结果保持之前的维数。"
   ]
  },
  {
   "cell_type": "code",
   "execution_count": 10,
   "metadata": {},
   "outputs": [],
   "source": [
    "# 求 test_matrix 每列的方差，存入test_var中\n",
    "# YOUR CODE HERE\n",
    "test_var = np.var(test_matrix, axis=0)"
   ]
  },
  {
   "cell_type": "code",
   "execution_count": 11,
   "metadata": {},
   "outputs": [
    {
     "name": "stdout",
     "output_type": "stream",
     "text": [
      "772407.5060043654\n",
      "(57,)\n"
     ]
    }
   ],
   "source": [
    "# 测试样例\n",
    "print(test_var.sum()) # 772407.506004\n",
    "print(test_var.shape) # (1, 57)"
   ]
  },
  {
   "cell_type": "markdown",
   "metadata": {},
   "source": [
    "### 4. 将test_mean和test_var存入字典test_dict中\n",
    "\n",
    "将`{'mean': test_mean}` 和 `{'var': test_var}` 存入`test_dict`中"
   ]
  },
  {
   "cell_type": "code",
   "execution_count": 12,
   "metadata": {},
   "outputs": [],
   "source": [
    "# YOUR CODE HERE\n",
    "test_dict['mean'] = test_mean\n",
    "test_dict['var'] = test_var"
   ]
  },
  {
   "cell_type": "code",
   "execution_count": 13,
   "metadata": {},
   "outputs": [
    {
     "name": "stdout",
     "output_type": "stream",
     "text": [
      "dict_keys(['a', 'mean', 'var'])\n"
     ]
    }
   ],
   "source": [
    "# 测试样例\n",
    "print(test_dict.keys())  # dict_keys(['a', 'mean', 'var'])"
   ]
  },
  {
   "cell_type": "markdown",
   "metadata": {},
   "source": [
    "### 5. numpy的索引\n",
    "\n",
    "我们在预测的时候，需要使用numpy索引的一个小技巧\n",
    "\n",
    "给定一个列表，里面有3个字符串`'a', 'b', 'c'`，分别表示三个类别，给定一个`np.ndarray([1, 2, 0, 1, 0])`，我们可以执行以下代码观察numpy强大的索引功能"
   ]
  },
  {
   "cell_type": "code",
   "execution_count": 14,
   "metadata": {},
   "outputs": [
    {
     "name": "stdout",
     "output_type": "stream",
     "text": [
      "['a' 'b' 'c']\n",
      "[1 2 0 1 0]\n",
      "['b' 'c' 'a' 'b' 'a']\n",
      "<class 'numpy.ndarray'>\n"
     ]
    }
   ],
   "source": [
    "labels = ['a', 'b', 'c']\n",
    "np_labels = np.array(labels)\n",
    "print(np_labels)\n",
    "index = np.array([1, 2, 0, 1, 0])\n",
    "print(index)\n",
    "results = np_labels[index]\n",
    "print(results)\n",
    "print(type(results))"
   ]
  },
  {
   "cell_type": "markdown",
   "metadata": {},
   "source": [
    "可以看到，我们可以使用 `np.ndarray` 一次检索多个值，返回值会以 `np.ndarray` 的形式返回"
   ]
  },
  {
   "cell_type": "markdown",
   "metadata": {},
   "source": [
    "### 6. np.argmax\n",
    "\n",
    "这个是求最大值的下标用的，`axis`参数用来控制是每行还是每列"
   ]
  },
  {
   "cell_type": "code",
   "execution_count": 15,
   "metadata": {},
   "outputs": [
    {
     "name": "stdout",
     "output_type": "stream",
     "text": [
      "[[0.9 0.1]\n",
      " [0.4 0.6]\n",
      " [0.1 0.9]]\n"
     ]
    }
   ],
   "source": [
    "test_array = np.array([[0.9, 0.1],[0.4, 0.6],[0.1, 0.9]])\n",
    "print(test_array)"
   ]
  },
  {
   "cell_type": "code",
   "execution_count": 16,
   "metadata": {},
   "outputs": [
    {
     "data": {
      "text/plain": [
       "array([0, 2], dtype=int64)"
      ]
     },
     "execution_count": 16,
     "metadata": {},
     "output_type": "execute_result"
    }
   ],
   "source": [
    "np.argmax(test_array, axis = 0)"
   ]
  },
  {
   "cell_type": "markdown",
   "metadata": {},
   "source": [
    "可以看到，使用`axis = 0`，就是返回每列最大值的下标，分别是0和2。"
   ]
  },
  {
   "cell_type": "code",
   "execution_count": 17,
   "metadata": {},
   "outputs": [],
   "source": [
    "# 求每行最大值的下标\n",
    "# YOUR CODE HERE\n",
    "test_argmax = np.argmax(test_matrix, axis=1)"
   ]
  },
  {
   "cell_type": "code",
   "execution_count": 18,
   "metadata": {},
   "outputs": [
    {
     "name": "stdout",
     "output_type": "stream",
     "text": [
      "[56 56 56 ... 56 56 56]\n"
     ]
    }
   ],
   "source": [
    "print(test_argmax) # [0 1 1]"
   ]
  },
  {
   "cell_type": "markdown",
   "metadata": {},
   "source": [
    "**接下来我们开始实现高斯朴素贝叶斯**，我们以类的形式实现这个高斯朴素贝叶斯。因为朴素贝叶斯是懒惰学习，所以这个模型只有在预测的时候，会进行大量的运算。"
   ]
  },
  {
   "cell_type": "code",
   "execution_count": 19,
   "metadata": {},
   "outputs": [],
   "source": [
    "class myGaussianNB:\n",
    "    '''\n",
    "    处理连续特征的高斯朴素贝叶斯\n",
    "    '''\n",
    "    def __init__(self):\n",
    "        '''\n",
    "        初始化四个字典\n",
    "        self.label_mapping     类标记 与 下标(int)\n",
    "        self.probability_of_y  类标记 与 先验概率(float)\n",
    "        self.mean              类标记 与 均值(np.ndarray)\n",
    "        self.var               类标记 与 方差(np.ndarray)\n",
    "        '''\n",
    "        self.label_mapping = dict()\n",
    "        self.probability_of_y = dict()\n",
    "        self.mean = dict()\n",
    "        self.var = dict()\n",
    "        \n",
    "    def _clear(self):\n",
    "        '''\n",
    "        为了防止一个实例反复的调用fit方法，我们需要每次调用fit前，将之前学习到的参数删除掉\n",
    "        '''\n",
    "        self.label_mapping.clear()\n",
    "        self.probability_of_y.clear()\n",
    "        self.mean.clear()\n",
    "        self.var.clear()\n",
    "    \n",
    "    def fit(self, trainX, trainY):\n",
    "        '''\n",
    "        这里，我们要根据trainY内的类标记，针对每类，计算这类的先验概率，以及这类训练样本每个特征的均值和方差\n",
    "        '''\n",
    "        self._clear()\n",
    "        labels = np.unique(trainY)\n",
    "        self.label_mapping = {label: index for index, label in enumerate(labels)}\n",
    "\n",
    "        for label in labels:\n",
    "            x = trainX[trainY == label, :]\n",
    "            # 计算先验概率，用 x 的样本个数除以训练样本总个数，存储到 self.probability_of_y 中，键为 label，值为先验概率\n",
    "            # YOUR CODE HERE\n",
    "            self.probability_of_y[label] = x.shape[0] / trainX.shape[0]\n",
    "            # 对 x 的每列求均值，使用 keepdims = True 保持维度，存储到 self.mean 中，键为 label，值为每列的均值组成的一个二维 np.ndarray\n",
    "            # YOUR CODE HERE\n",
    "            self.mean[label] = np.mean(x, axis=0, keepdims=True)\n",
    "            assert self.mean[label].shape == (1, trainX.shape[1])\n",
    "            # 对 x 的每列求方差，使用 keepdims = True 保持维度，存储到 self.var 中，键为 label，值为每列的方差组成的一个二维 np.ndarray\n",
    "            # YOUR CODE HERE\n",
    "            self.var[label] = np.var(x, axis=0, keepdims=True)\n",
    "            assert self.var[label].shape == (1, trainX.shape[1])\n",
    "            self.var[label] += 1e-9 * np.var(trainX, axis = 0).max()\n",
    "        \n",
    "    def predict(self, testX):\n",
    "        results = np.empty((testX.shape[0], len(self.probability_of_y)))\n",
    "        labels = [0] * len(self.probability_of_y)\n",
    "        for label, index in self.label_mapping.items():\n",
    "            py = self.probability_of_y[label]\n",
    "            # 使用变换后的公式，计算所有特征的条件概率之和，存为sum_of_conditional_probability\n",
    "            # YOUR CODE HERE\n",
    "            sum_of_conditional_probability = -0.5 * np.sum(np.log(2. * np.pi * self.var[label]) + (testX - self.mean[label]) ** 2 / self.var[label], axis=1)\n",
    "            assert sum_of_conditional_probability.shape == (len(testX), )\n",
    "            # 使用变换后的公式，将 条件概率 与 log先验概率 相加，存为result，维度应该是 (测试样本数, )\n",
    "            # YOUR CODE HERE\n",
    "            result = sum_of_conditional_probability + np.log(py)\n",
    "            assert result.shape == (len(testX), )\n",
    "            results[:, index] = result\n",
    "            labels[index] = label\n",
    "        \n",
    "        np_labels = np.array(labels)\n",
    "        # 循环结束后，就计算出了给定测试样本，当前样本属于这类的概率的近似值，存放在了results中，每行对应一个样本，每列对应一个特征\n",
    "        # 我们要求每行的最大值对应的下标，也就是求每个样本，概率值最大的那个下标是什么，结果存入max_prob_index中\n",
    "        # YOUR CODE HERE\n",
    "        max_prob_index = np.argmax(results, axis=1)\n",
    "        assert max_prob_index.shape == (len(testX), )\n",
    "        # 现在得到了每个样本最大概率对应的下标，我们需要把这个下标变成 np_labels 中的标记\n",
    "        # 使用上面小技巧中的第五点求解\n",
    "        # YOUR CODE HERE\n",
    "        prediction = np_labels[max_prob_index]\n",
    "        assert prediction.shape == (len(testX), )\n",
    "        return prediction"
   ]
  },
  {
   "cell_type": "code",
   "execution_count": 20,
   "metadata": {},
   "outputs": [
    {
     "data": {
      "text/plain": [
       "0.8126018468223791"
      ]
     },
     "execution_count": 20,
     "metadata": {},
     "output_type": "execute_result"
    }
   ],
   "source": [
    "from sklearn.metrics import accuracy_score\n",
    "model = myGaussianNB()\n",
    "model.fit(trainX, trainY)\n",
    "accuracy_score(testY, model.predict(testX))  # 0.812"
   ]
  },
  {
   "cell_type": "markdown",
   "metadata": {
    "collapsed": true
   },
   "source": [
    "# 4. 计算其他的指标\n",
    "\n",
    "###### 双击此处填写\n",
    "\n",
    "查准率|查全率|F1\n",
    "-|-|-\n",
    "0.682951|0.962079| 0.798834"
   ]
  },
  {
   "cell_type": "code",
   "execution_count": 21,
   "metadata": {},
   "outputs": [
    {
     "name": "stdout",
     "output_type": "stream",
     "text": [
      "precision:  0.682951\n",
      "recall:  0.962079\n",
      "F1:  0.798834\n"
     ]
    }
   ],
   "source": [
    "# YOUR CODE HERE\n",
    "from sklearn.metrics import precision_score, recall_score, f1_score\n",
    "predY = model.predict(testX)\n",
    "precision = precision_score(testY, predY)\n",
    "recall = recall_score(testY, predY)\n",
    "f1 = f1_score(testY, predY)\n",
    "print(\"precision: \", format(precision,'.6f'))\n",
    "print(\"recall: \", format(recall,'.6f'))\n",
    "print(\"F1: \", format(f1,'.6f'))"
   ]
  },
  {
   "cell_type": "code",
   "execution_count": null,
   "metadata": {},
   "outputs": [],
   "source": []
  }
 ],
 "metadata": {
  "kernelspec": {
   "display_name": "Python 3 (ipykernel)",
   "language": "python",
   "name": "python3"
  },
  "language_info": {
   "codemirror_mode": {
    "name": "ipython",
    "version": 3
   },
   "file_extension": ".py",
   "mimetype": "text/x-python",
   "name": "python",
   "nbconvert_exporter": "python",
   "pygments_lexer": "ipython3",
   "version": "3.9.13"
  }
 },
 "nbformat": 4,
 "nbformat_minor": 2
}
