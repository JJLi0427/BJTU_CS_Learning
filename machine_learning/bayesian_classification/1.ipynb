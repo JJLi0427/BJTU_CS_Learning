{
 "cells": [
  {
   "cell_type": "markdown",
   "metadata": {},
   "source": [
    "# 第一题：使用sklearn的GaussianNB、BernoulliNB、MultinomialNB完成spambase垃圾邮件分类任务\n",
    "\n",
    "实验内容：\n",
    "1. 使用GaussianNB、BernoulliNB、MultinomialNB完成spambase邮件分类\n",
    "2. 计算各自十折交叉验证的精度、查准率、查全率、F1值\n",
    "3. 根据精度、查准率、查全率、F1值的实际意义以及四个值的对比阐述三个算法在spambase中的表现对比"
   ]
  },
  {
   "cell_type": "markdown",
   "metadata": {},
   "source": [
    "# 1. 读取数据集"
   ]
  },
  {
   "cell_type": "code",
   "execution_count": 1,
   "metadata": {},
   "outputs": [],
   "source": [
    "import numpy as np\n",
    "spambase = np.loadtxt('data/spambase/spambase.data', delimiter = \",\")\n",
    "spamx = spambase[:, :57]\n",
    "spamy = spambase[:, 57]"
   ]
  },
  {
   "cell_type": "markdown",
   "metadata": {},
   "source": [
    "# 2. 导入模型"
   ]
  },
  {
   "cell_type": "code",
   "execution_count": 2,
   "metadata": {},
   "outputs": [],
   "source": [
    "from sklearn.naive_bayes import GaussianNB\n",
    "from sklearn.naive_bayes import MultinomialNB\n",
    "from sklearn.naive_bayes import BernoulliNB\n",
    "from sklearn.model_selection import cross_val_predict"
   ]
  },
  {
   "cell_type": "markdown",
   "metadata": {},
   "source": [
    "# 3. 计算十折交叉验证下，GaussianNB、BernoulliNB、MultinomialNB的精度、查准率、查全率、F1值"
   ]
  },
  {
   "cell_type": "code",
   "execution_count": 3,
   "metadata": {},
   "outputs": [
    {
     "name": "stdout",
     "output_type": "stream",
     "text": [
      "GaussianNB:\n",
      "Accuracy: 0.821778\n",
      "Precision: 0.700444\n",
      "Recall: 0.956977\n",
      "F1 Score: 0.808858\n",
      "MultinomialNB:\n",
      "Accuracy: 0.786351\n",
      "Precision: 0.732363\n",
      "Recall: 0.721456\n",
      "F1 Score: 0.726869\n",
      "BernoulliNB:\n",
      "Accuracy: 0.883938\n",
      "Precision: 0.881336\n",
      "Recall: 0.815223\n",
      "F1 Score: 0.846991\n"
     ]
    }
   ],
   "source": [
    "# YOUR CODE HERE\n",
    "from sklearn.metrics import accuracy_score, precision_score, recall_score, f1_score\n",
    "gaussian_nb = GaussianNB()\n",
    "multinomial_nb = MultinomialNB()\n",
    "bernoulli_nb = BernoulliNB()\n",
    "\n",
    "# 进行十折交叉验证\n",
    "gaussian_pred = cross_val_predict(gaussian_nb, spamx, spamy, cv=10)\n",
    "multinomial_pred = cross_val_predict(multinomial_nb, spamx, spamy, cv=10)\n",
    "bernoulli_pred = cross_val_predict(bernoulli_nb, spamx, spamy, cv=10)\n",
    "\n",
    "# 计算GaussianNB的指标\n",
    "acc = accuracy_score(spamy, gaussian_pred)\n",
    "pre = precision_score(spamy, gaussian_pred)\n",
    "rec = recall_score(spamy, gaussian_pred)\n",
    "f1 = f1_score(spamy, gaussian_pred)\n",
    "print(\"GaussianNB:\")\n",
    "print(\"Accuracy:\", format(acc,'.6f'))\n",
    "print(\"Precision:\", format(pre,'.6f'))\n",
    "print(\"Recall:\", format(rec,'.6f'))\n",
    "print(\"F1 Score:\", format(f1,'.6f'))\n",
    "\n",
    "# 计算MultinomialNB的指标\n",
    "acc = accuracy_score(spamy, multinomial_pred)\n",
    "pre = precision_score(spamy, multinomial_pred)\n",
    "rec = recall_score(spamy, multinomial_pred)\n",
    "f1 = f1_score(spamy, multinomial_pred)\n",
    "print(\"MultinomialNB:\")\n",
    "print(\"Accuracy:\", format(acc,'.6f'))\n",
    "print(\"Precision:\", format(pre,'.6f'))\n",
    "print(\"Recall:\", format(rec,'.6f'))\n",
    "print(\"F1 Score:\", format(f1,'.6f'))\n",
    "\n",
    "# 计算BernoulliNB的指标\n",
    "acc = accuracy_score(spamy, bernoulli_pred)\n",
    "pre = precision_score(spamy, bernoulli_pred)\n",
    "rec = recall_score(spamy, bernoulli_pred)\n",
    "f1 = f1_score(spamy, bernoulli_pred)\n",
    "print(\"BernoulliNB:\")\n",
    "print(\"Accuracy:\", format(acc,'.6f'))\n",
    "print(\"Precision:\", format(pre,'.6f'))\n",
    "print(\"Recall:\", format(rec,'.6f'))\n",
    "print(\"F1 Score:\", format(f1,'.6f'))"
   ]
  },
  {
   "cell_type": "markdown",
   "metadata": {},
   "source": [
    "算法|精度|查准率|查全率|F1值\n",
    "-|-|-|-|-\n",
    "GaussianNB|0.821778|0.700444|0.956977|0.808858\n",
    "MultinomialNB|0.786351|0.732363|0.721456|0.726869\n",
    "BernoulliNB|0.883938|0.881336|0.815223|0.846991  \n",
    "\n",
    "分析如下：BernoulliNB的精度、查准率和F1都是最高的，这可能是因为BernoulliNB假设特征是二值的，这对于处理垃圾邮件分类这样的文本数据可能更为合适。GaussianNB的查全率最高且远高于另外两个算法，但在精度和查准率上表现较差，这可能是因为GaussianNB假设特征遵循高斯分布，这在处理文本数据时可能不太准确。MultinomialNB在所有指标上都表现一般，这可能是因为MultinomialNB假设特征是多项分布的，这在处理文本数据时可能不太准确。总的来说，对于这个垃圾邮件分类任务，BernoulliNB可能更合适"
   ]
  },
  {
   "cell_type": "code",
   "execution_count": null,
   "metadata": {},
   "outputs": [],
   "source": []
  }
 ],
 "metadata": {
  "kernelspec": {
   "display_name": "Python 3 (ipykernel)",
   "language": "python",
   "name": "python3"
  },
  "language_info": {
   "codemirror_mode": {
    "name": "ipython",
    "version": 3
   },
   "file_extension": ".py",
   "mimetype": "text/x-python",
   "name": "python",
   "nbconvert_exporter": "python",
   "pygments_lexer": "ipython3",
   "version": "3.9.13"
  },
  "toc": {
   "base_numbering": 1,
   "nav_menu": {},
   "number_sections": true,
   "sideBar": true,
   "skip_h1_title": false,
   "title_cell": "Table of Contents",
   "title_sidebar": "Contents",
   "toc_cell": false,
   "toc_position": {},
   "toc_section_display": true,
   "toc_window_display": false
  }
 },
 "nbformat": 4,
 "nbformat_minor": 2
}
