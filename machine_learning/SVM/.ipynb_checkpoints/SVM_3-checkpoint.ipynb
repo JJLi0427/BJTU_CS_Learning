{
 "cells": [
  {
   "cell_type": "markdown",
   "metadata": {},
   "source": [
    "# 第三题：支持向量机的分类任务\n",
    "\n",
    "实验内容：\n",
    "1. 使用支持向量机完成Breast_Cancer_Wisconsin数据集分类任务\n",
    "2. 使用不同核函数和惩罚系数C在训练集上训练模型，并分别计算对应模型在测试集的精度，查准率，查全率，F1值，将结果填写到下表中。\n",
    "\n",
    "| 核函数 | C | 精度 | 查准率 | 查全率 | F1| \n",
    "| - | - | - | - | - | - |\n",
    "rbf | 0.1 | 0.883 | 0.979 | 0.712 | 0.825 | \n",
    "rbf | 1 | 0.883 | 0.926 | 0.758 | 0.833 | \n",
    "linear | 0.1 | 0.924 | 0.921 | 0.879 | 0.899 | \n",
    "linear | 1 | 0.93 | 0.922 | 0.894 | 0.908 | \n",
    "sigmoid | 0.1 | 0.614 | 0.0 | 0.0 | 0.0 | \n",
    "sigmoid | 1 | 0.444 | 0.226 | 0.182 | 0.202 | "
   ]
  },
  {
   "cell_type": "code",
   "execution_count": 1,
   "metadata": {},
   "outputs": [],
   "source": [
    "# 导入数据\n",
    "import numpy as np\n",
    "import pandas as pd\n",
    "data = pd.read_csv('data\\Breast_Cancer_Wisconsin\\data')\n",
    "data['diagnosis'] = data['diagnosis'].apply(lambda x:1 if x == \"M\" else 0)"
   ]
  },
  {
   "cell_type": "code",
   "execution_count": 3,
   "metadata": {},
   "outputs": [],
   "source": [
    "# 划分数据为特征和标签\n",
    "data = data.values\n",
    "x = data[:,2:-1]\n",
    "y = data[:,1:2].reshape(-1)"
   ]
  },
  {
   "cell_type": "code",
   "execution_count": 6,
   "metadata": {},
   "outputs": [
    {
     "data": {
      "text/plain": [
       "((398, 30), (398,), (171, 30), (171,))"
      ]
     },
     "execution_count": 6,
     "metadata": {},
     "output_type": "execute_result"
    }
   ],
   "source": [
    "# 数据集分割\n",
    "from sklearn.model_selection import train_test_split\n",
    "trainX, testX, trainY, testY = train_test_split(x, y, test_size = 0.3, random_state = 32)\n",
    "trainX.shape, trainY.shape, testX.shape, testY.shape"
   ]
  },
  {
   "cell_type": "markdown",
   "metadata": {},
   "source": [
    "**注意：计算线性核的时候，要使用 LinearSVC 这个类，不要使用SVC(kernel = 'linear')。LinearSVC不需要设置kernel参数！**"
   ]
  },
  {
   "cell_type": "code",
   "execution_count": 7,
   "metadata": {},
   "outputs": [],
   "source": [
    "# 引入模型\n",
    "from sklearn.svm import SVC\n",
    "from sklearn.svm import LinearSVC"
   ]
  },
  {
   "cell_type": "code",
   "execution_count": 8,
   "metadata": {},
   "outputs": [],
   "source": [
    "from sklearn.metrics import accuracy_score\n",
    "from sklearn.metrics import precision_score\n",
    "from sklearn.metrics import recall_score\n",
    "from sklearn.metrics import f1_score"
   ]
  },
  {
   "cell_type": "code",
   "execution_count": 10,
   "metadata": {},
   "outputs": [
    {
     "name": "stdout",
     "output_type": "stream",
     "text": [
      "Kernel: rbf, C: 0.1, Accuracy: 0.883, Precision: 0.979, Recall: 0.712, F1: 0.825\n"
     ]
    }
   ],
   "source": [
    "clf = SVC(kernel=\"rbf\", C=0.1)\n",
    "clf.fit(trainX, trainY)\n",
    "predY = clf.predict(testX)\n",
    "acc = accuracy_score(testY, predY)\n",
    "prec = precision_score(testY, predY)\n",
    "rec = recall_score(testY, predY)\n",
    "f1 = f1_score(testY, predY)\n",
    "print(f'Kernel: rbf, C: 0.1, Accuracy: {acc:.3}, Precision: {prec:.3}, Recall: {rec:.3}, F1: {f1:.3}')"
   ]
  },
  {
   "cell_type": "code",
   "execution_count": 11,
   "metadata": {},
   "outputs": [
    {
     "name": "stdout",
     "output_type": "stream",
     "text": [
      "Kernel: rbf, C: 1, Accuracy: 0.883, Precision: 0.926, Recall: 0.758, F1: 0.833\n"
     ]
    }
   ],
   "source": [
    "clf = SVC(kernel=\"rbf\", C=1)\n",
    "clf.fit(trainX, trainY)\n",
    "predY = clf.predict(testX)\n",
    "acc = accuracy_score(testY, predY)\n",
    "prec = precision_score(testY, predY)\n",
    "rec = recall_score(testY, predY)\n",
    "f1 = f1_score(testY, predY)\n",
    "print(f'Kernel: rbf, C: 1, Accuracy: {acc:.3}, Precision: {prec:.3}, Recall: {rec:.3}, F1: {f1:.3}')"
   ]
  },
  {
   "cell_type": "code",
   "execution_count": 12,
   "metadata": {},
   "outputs": [
    {
     "name": "stdout",
     "output_type": "stream",
     "text": [
      "Kernel: linear, C: 0.1, Accuracy: 0.924, Precision: 0.921, Recall: 0.879, F1: 0.899\n"
     ]
    }
   ],
   "source": [
    "clf = LinearSVC(C=0.1, dual=False)\n",
    "clf.fit(trainX, trainY)\n",
    "predY = clf.predict(testX)\n",
    "acc = accuracy_score(testY, predY)\n",
    "prec = precision_score(testY, predY)\n",
    "rec = recall_score(testY, predY)\n",
    "f1 = f1_score(testY, predY)\n",
    "print(f'Kernel: linear, C: 0.1, Accuracy: {acc:.3}, Precision: {prec:.3}, Recall: {rec:.3}, F1: {f1:.3}')"
   ]
  },
  {
   "cell_type": "code",
   "execution_count": 13,
   "metadata": {},
   "outputs": [
    {
     "name": "stdout",
     "output_type": "stream",
     "text": [
      "Kernel: linear, C: 1, Accuracy: 0.93, Precision: 0.922, Recall: 0.894, F1: 0.908\n"
     ]
    }
   ],
   "source": [
    "clf = LinearSVC(C=1, dual=False)\n",
    "clf.fit(trainX, trainY)\n",
    "predY = clf.predict(testX)\n",
    "acc = accuracy_score(testY, predY)\n",
    "prec = precision_score(testY, predY)\n",
    "rec = recall_score(testY, predY)\n",
    "f1 = f1_score(testY, predY)\n",
    "print(f'Kernel: linear, C: 1, Accuracy: {acc:.3}, Precision: {prec:.3}, Recall: {rec:.3}, F1: {f1:.3}')"
   ]
  },
  {
   "cell_type": "code",
   "execution_count": 14,
   "metadata": {},
   "outputs": [
    {
     "name": "stdout",
     "output_type": "stream",
     "text": [
      "Kernel: sigmoid, C: 0.1, Accuracy: 0.614, Precision: 0.0, Recall: 0.0, F1: 0.0\n"
     ]
    },
    {
     "name": "stderr",
     "output_type": "stream",
     "text": [
      "C:\\Users\\li236\\anaconda3\\lib\\site-packages\\sklearn\\metrics\\_classification.py:1469: UndefinedMetricWarning: Precision is ill-defined and being set to 0.0 due to no predicted samples. Use `zero_division` parameter to control this behavior.\n",
      "  _warn_prf(average, modifier, msg_start, len(result))\n"
     ]
    }
   ],
   "source": [
    "clf = SVC(kernel=\"sigmoid\", C=0.1)\n",
    "clf.fit(trainX, trainY)\n",
    "predY = clf.predict(testX)\n",
    "acc = accuracy_score(testY, predY)\n",
    "prec = precision_score(testY, predY)\n",
    "rec = recall_score(testY, predY)\n",
    "f1 = f1_score(testY, predY)\n",
    "print(f'Kernel: sigmoid, C: 0.1, Accuracy: {acc:.3}, Precision: {prec:.3}, Recall: {rec:.3}, F1: {f1:.3}')"
   ]
  },
  {
   "cell_type": "code",
   "execution_count": 15,
   "metadata": {},
   "outputs": [
    {
     "name": "stdout",
     "output_type": "stream",
     "text": [
      "Kernel: sigmoid, C: 1, Accuracy: 0.444, Precision: 0.226, Recall: 0.182, F1: 0.202\n"
     ]
    }
   ],
   "source": [
    "clf = SVC(kernel=\"sigmoid\", C=1)\n",
    "clf.fit(trainX, trainY)\n",
    "predY = clf.predict(testX)\n",
    "acc = accuracy_score(testY, predY)\n",
    "prec = precision_score(testY, predY)\n",
    "rec = recall_score(testY, predY)\n",
    "f1 = f1_score(testY, predY)\n",
    "print(f'Kernel: sigmoid, C: 1, Accuracy: {acc:.3}, Precision: {prec:.3}, Recall: {rec:.3}, F1: {f1:.3}')"
   ]
  }
 ],
 "metadata": {
  "kernelspec": {
   "display_name": "Python 3 (ipykernel)",
   "language": "python",
   "name": "python3"
  },
  "language_info": {
   "codemirror_mode": {
    "name": "ipython",
    "version": 3
   },
   "file_extension": ".py",
   "mimetype": "text/x-python",
   "name": "python",
   "nbconvert_exporter": "python",
   "pygments_lexer": "ipython3",
   "version": "3.9.13"
  },
  "vscode": {
   "interpreter": {
    "hash": "d59d9e94944692a2eb8448fb943792b9fe90fc48cb31d275a1de2204134e1b85"
   }
  }
 },
 "nbformat": 4,
 "nbformat_minor": 2
}
