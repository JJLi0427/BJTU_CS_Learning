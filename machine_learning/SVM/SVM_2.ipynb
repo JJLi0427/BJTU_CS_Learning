{
 "cells": [
  {
   "cell_type": "markdown",
   "metadata": {},
   "source": [
    "# 第二题：支持向量机的软间隔\n",
    "\n",
    "实验内容：\n",
    "\n",
    "1. 了解分离超平面、间隔超平面与支持向量的绘制\n",
    "2. 调整C的值，绘制分离超平面、间隔超平面和支持向量\n",
    "3. 简述引入软间隔的原因，以及C值对SVM的影响"
   ]
  },
  {
   "cell_type": "markdown",
   "metadata": {},
   "source": [
    "## 1. 导入模型"
   ]
  },
  {
   "cell_type": "code",
   "execution_count": null,
   "metadata": {},
   "outputs": [],
   "source": [
    "import numpy as np\n",
    "import matplotlib.pyplot as plt\n",
    "%matplotlib inline\n",
    "\n",
    "from sklearn.svm import SVC"
   ]
  },
  {
   "cell_type": "markdown",
   "metadata": {},
   "source": [
    "## 2. 制造数据集"
   ]
  },
  {
   "cell_type": "code",
   "execution_count": null,
   "metadata": {},
   "outputs": [],
   "source": [
    "np.random.seed(2)\n",
    "X = np.r_[np.random.randn(20, 2) - [0, 2], np.random.randn(20, 2) + [0, 2]]\n",
    "Y = [0] * 20 + [1] * 20"
   ]
  },
  {
   "cell_type": "markdown",
   "metadata": {},
   "source": [
    "我们把数据$X$的第一列，记为$x_1$，第二列记为$x_2$"
   ]
  },
  {
   "cell_type": "markdown",
   "metadata": {},
   "source": [
    "可视化"
   ]
  },
  {
   "cell_type": "code",
   "execution_count": null,
   "metadata": {},
   "outputs": [],
   "source": [
    "def plot_data(X, Y):\n",
    "    # 新建一个 8 × 8 的图\n",
    "    plt.figure(figsize = (8, 8))\n",
    "\n",
    "    # 绘制散点图\n",
    "    plt.scatter(X[:, 0], X[:, 1], c = Y, cmap = plt.cm.Paired, edgecolors = 'k')\n",
    "\n",
    "    # 设置横纵坐标标签\n",
    "    plt.xlabel('x1')\n",
    "    plt.ylabel('x2')\n",
    "\n",
    "    # 设定图的范围\n",
    "    plt.xlim((-4, 4))\n",
    "    plt.ylim((-4, 4))"
   ]
  },
  {
   "cell_type": "code",
   "execution_count": null,
   "metadata": {},
   "outputs": [],
   "source": [
    "plot_data(X, Y)"
   ]
  },
  {
   "cell_type": "markdown",
   "metadata": {},
   "source": [
    "## 3. 训练模型\n",
    "\n",
    "这里我们使用线性核函数，C设定为100"
   ]
  },
  {
   "cell_type": "code",
   "execution_count": null,
   "metadata": {},
   "outputs": [],
   "source": [
    "# 创建模型\n",
    "clf = SVC(kernel = 'linear', C = 100, random_state = 32)\n",
    "\n",
    "# 训练模型\n",
    "clf.fit(X, Y)"
   ]
  },
  {
   "cell_type": "markdown",
   "metadata": {},
   "source": [
    "## 4. 绘制超平面"
   ]
  },
  {
   "cell_type": "code",
   "execution_count": null,
   "metadata": {},
   "outputs": [],
   "source": [
    "def compute_hyperplane(model, x1):\n",
    "    '''\n",
    "    计算二维平面上的分离超平面，\n",
    "    我们通过w0，w1，b以及x1计算出x2，只不过这里的x1是一个ndarray，x2也是一个ndarray\n",
    "    '''\n",
    "    w0 = model.coef_[0][0]\n",
    "    w1 = model.coef_[0][1]\n",
    "    b = model.intercept_[0]\n",
    "    \n",
    "    # YOUR CODE HERE\n",
    "    x2 = -(w0 * x1 + b) / w1\n",
    "    \n",
    "    return x2"
   ]
  },
  {
   "cell_type": "code",
   "execution_count": null,
   "metadata": {},
   "outputs": [],
   "source": [
    "plot_data(X, Y)\n",
    "x1 = np.array([-5, 5])\n",
    "x2 = compute_hyperplane(clf, x1)\n",
    "plt.plot(x1, x2, '-', color = 'red')"
   ]
  },
  {
   "cell_type": "markdown",
   "metadata": {},
   "source": [
    "## 5. 绘制间隔"
   ]
  },
  {
   "cell_type": "code",
   "execution_count": null,
   "metadata": {},
   "outputs": [],
   "source": [
    "def compute_margin(model, x1):\n",
    "    '''\n",
    "    计算二维平面上的间隔超平面，\n",
    "    我们通过w0，w1，b以及x1计算出x2，只不过这里的x1是一个ndarray，x2也是一个ndarray\n",
    "    '''\n",
    "    x2 = compute_hyperplane(model, x1)\n",
    "    w1 = model.coef_[0][1]\n",
    "    # YOUR CODE HERE\n",
    "    x2_up = x2 + 1 / w1\n",
    "    # YOUR CODE HERE\n",
    "    x2_down = x2 - 1 / w1\n",
    "    \n",
    "    return x2_up, x2_down"
   ]
  },
  {
   "cell_type": "code",
   "execution_count": null,
   "metadata": {},
   "outputs": [],
   "source": [
    "plot_data(X, Y)\n",
    "x1 = np.array([-5, 5])\n",
    "x2 = compute_hyperplane(clf, x1)\n",
    "x2_up, x2_down = compute_margin(clf, x1)\n",
    "plt.plot(x1, x2, '-', color = 'red')\n",
    "plt.plot(x1, x2_up, 'k--')\n",
    "plt.plot(x1, x2_down, 'k--')"
   ]
  },
  {
   "cell_type": "markdown",
   "metadata": {},
   "source": [
    "## 6. 标出支持向量\n",
    "\n",
    "模型的support_vectors_属性包含了支持向量"
   ]
  },
  {
   "cell_type": "code",
   "execution_count": null,
   "metadata": {},
   "outputs": [],
   "source": [
    "plot_data(X, Y)\n",
    "x1 = np.array([-5, 5])\n",
    "x2 = compute_hyperplane(clf, x1)\n",
    "x2_up, x2_down = compute_margin(clf, x1)\n",
    "plt.plot(x1, x2, '-', color = 'red')\n",
    "plt.plot(x1, x2_up, 'k--')\n",
    "plt.plot(x1, x2_down, 'k--')\n",
    "plt.scatter(clf.support_vectors_[:, 0], clf.support_vectors_[:, 1], s = 200, facecolors = 'none', edgecolors = 'red')"
   ]
  },
  {
   "cell_type": "markdown",
   "metadata": {},
   "source": [
    "# 作业1：请你使用线性核，调整C的值，绘制数据集，SVM分离超平面，间隔超平面以及支持向量"
   ]
  },
  {
   "cell_type": "markdown",
   "metadata": {},
   "source": [
    "## 1. C = 10"
   ]
  },
  {
   "cell_type": "code",
   "execution_count": null,
   "metadata": {},
   "outputs": [],
   "source": [
    "# YOUR CODE HERE\n",
    "clf = SVC(kernel='linear', C=10, random_state=32)\n",
    "clf.fit(X, Y)\n",
    "plot_data(X, Y)\n",
    "x1 = np.array([-5, 5])\n",
    "x2 = compute_hyperplane(clf, x1)\n",
    "x2_up, x2_down = compute_margin(clf, x1)\n",
    "plt.plot(x1, x2, '-', color='red')\n",
    "plt.plot(x1, x2_up, 'k--')\n",
    "plt.plot(x1, x2_down, 'k--')\n",
    "plt.scatter(clf.support_vectors_[:, 0], clf.support_vectors_[:, 1], s=200, facecolors='none', edgecolors='red')\n",
    "plt.title(f'C = 10')\n",
    "plt.show()"
   ]
  },
  {
   "cell_type": "markdown",
   "metadata": {},
   "source": [
    "## 2. C = 1"
   ]
  },
  {
   "cell_type": "code",
   "execution_count": null,
   "metadata": {},
   "outputs": [],
   "source": [
    "# YOUR CODE HERE\n",
    "clf = SVC(kernel='linear', C=1, random_state=32)\n",
    "clf.fit(X, Y)\n",
    "plot_data(X, Y)\n",
    "x1 = np.array([-5, 5])\n",
    "x2 = compute_hyperplane(clf, x1)\n",
    "x2_up, x2_down = compute_margin(clf, x1)\n",
    "plt.plot(x1, x2, '-', color='red')\n",
    "plt.plot(x1, x2_up, 'k--')\n",
    "plt.plot(x1, x2_down, 'k--')\n",
    "plt.scatter(clf.support_vectors_[:, 0], clf.support_vectors_[:, 1], s=200, facecolors='none', edgecolors='red')\n",
    "plt.title(f'C = 1')\n",
    "plt.show()"
   ]
  },
  {
   "cell_type": "markdown",
   "metadata": {},
   "source": [
    "## 3. C = 0.1"
   ]
  },
  {
   "cell_type": "code",
   "execution_count": null,
   "metadata": {},
   "outputs": [],
   "source": [
    "# YOUR CODE HERE\n",
    "clf = SVC(kernel='linear', C=0.1, random_state=32)\n",
    "clf.fit(X, Y)\n",
    "plot_data(X, Y)\n",
    "x1 = np.array([-5, 5])\n",
    "x2 = compute_hyperplane(clf, x1)\n",
    "x2_up, x2_down = compute_margin(clf, x1)\n",
    "plt.plot(x1, x2, '-', color='red')\n",
    "plt.plot(x1, x2_up, 'k--')\n",
    "plt.plot(x1, x2_down, 'k--')\n",
    "plt.scatter(clf.support_vectors_[:, 0], clf.support_vectors_[:, 1], s=200, facecolors='none', edgecolors='red')\n",
    "plt.title(f'C = 0.1')\n",
    "plt.show()"
   ]
  },
  {
   "cell_type": "markdown",
   "metadata": {},
   "source": [
    "# 作业2：简述为什么要加入软间隔？C的值对SVM有什么影响？"
   ]
  },
  {
   "cell_type": "markdown",
   "metadata": {},
   "source": [
    "实际的数据集中，往往存在一些噪声或者异常值，为了减小这些噪声或异常值的影响，就引入了软间隔的概念，允许SVM在一定的程度上对一些数据点进行误分类，从而获得更好的泛化能力。C决定了分类误差的惩罚程度，C越大，对误分类的惩罚越大，模型会尽量避免出现误分类，但可能导致过拟合，C越小，对误分类的惩罚越小，但可能会导致模型欠拟合。"
   ]
  },
  {
   "cell_type": "code",
   "execution_count": null,
   "metadata": {},
   "outputs": [],
   "source": []
  }
 ],
 "metadata": {
  "kernelspec": {
   "display_name": "Python 3 (ipykernel)",
   "language": "python",
   "name": "python3"
  },
  "language_info": {
   "codemirror_mode": {
    "name": "ipython",
    "version": 3
   },
   "file_extension": ".py",
   "mimetype": "text/x-python",
   "name": "python",
   "nbconvert_exporter": "python",
   "pygments_lexer": "ipython3",
   "version": "3.9.13"
  },
  "vscode": {
   "interpreter": {
    "hash": "d59d9e94944692a2eb8448fb943792b9fe90fc48cb31d275a1de2204134e1b85"
   }
  }
 },
 "nbformat": 4,
 "nbformat_minor": 2
}
