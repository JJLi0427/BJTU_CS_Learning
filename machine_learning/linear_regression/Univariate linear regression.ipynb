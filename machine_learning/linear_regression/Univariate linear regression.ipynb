{
 "cells": [
  {
   "cell_type": "markdown",
   "metadata": {},
   "source": [
    "# 一元线性回归"
   ]
  },
  {
   "cell_type": "markdown",
   "metadata": {},
   "source": [
    "## 1. 读取数据\n",
    "数据处理包括：数据分析、清理，数据集划分等"
   ]
  },
  {
   "cell_type": "code",
   "execution_count": null,
   "metadata": {
    "ExecuteTime": {
     "end_time": "2019-09-27T06:31:44.982355Z",
     "start_time": "2019-09-27T06:31:44.979358Z"
    }
   },
   "outputs": [],
   "source": [
    "import numpy as np \n",
    "import pandas as pd"
   ]
  },
  {
   "cell_type": "code",
   "execution_count": null,
   "metadata": {
    "ExecuteTime": {
     "end_time": "2019-09-27T06:31:46.491357Z",
     "start_time": "2019-09-27T06:31:45.135356Z"
    }
   },
   "outputs": [],
   "source": [
    "# 使用pandas读取csv数据\n",
    "data = pd.read_csv('data/advertising/advertising.csv')\n",
    "# 打印前5行\n",
    "data.head()"
   ]
  },
  {
   "cell_type": "markdown",
   "metadata": {},
   "source": [
    "本题的要求是，针对TV,  Radio, Newspaper三个特征，使用训练集训练三个一元线性回归模型，对比其在测试集上的MAE和RMSE，并且要绘制曲线。"
   ]
  },
  {
   "cell_type": "markdown",
   "metadata": {},
   "source": [
    "所以我们只保留这三列与标记这一列，总共四列的数据即可"
   ]
  },
  {
   "cell_type": "code",
   "execution_count": null,
   "metadata": {
    "ExecuteTime": {
     "end_time": "2019-09-27T06:31:46.566358Z",
     "start_time": "2019-09-27T06:31:46.547358Z"
    }
   },
   "outputs": [],
   "source": [
    "# 保留有用数据\n",
    "features = ['TV', 'Radio', 'Newspaper']\n",
    "target = 'Sales'\n",
    "data = data[features + [target]]\n",
    "data.head()"
   ]
  },
  {
   "cell_type": "markdown",
   "metadata": {},
   "source": [
    "## 2. 打乱数据顺序"
   ]
  },
  {
   "cell_type": "code",
   "execution_count": null,
   "metadata": {
    "ExecuteTime": {
     "end_time": "2019-09-27T06:31:48.231443Z",
     "start_time": "2019-09-27T06:31:48.226437Z"
    }
   },
   "outputs": [],
   "source": [
    "from sklearn.utils import shuffle"
   ]
  },
  {
   "cell_type": "code",
   "execution_count": null,
   "metadata": {
    "ExecuteTime": {
     "end_time": "2019-09-27T06:31:48.586440Z",
     "start_time": "2019-09-27T06:31:48.580447Z"
    }
   },
   "outputs": [],
   "source": [
    "data_shuffled = shuffle(data, random_state = 32) # 这个32不要改变"
   ]
  },
  {
   "cell_type": "code",
   "execution_count": null,
   "metadata": {
    "ExecuteTime": {
     "end_time": "2019-09-27T06:31:57.349293Z",
     "start_time": "2019-09-27T06:31:57.338331Z"
    }
   },
   "outputs": [],
   "source": [
    "data_shuffled.head()"
   ]
  },
  {
   "cell_type": "markdown",
   "metadata": {},
   "source": [
    "## 3. 取前70%的数据为训练集，后30%为测试集"
   ]
  },
  {
   "cell_type": "code",
   "execution_count": null,
   "metadata": {
    "ExecuteTime": {
     "end_time": "2019-09-27T06:42:25.586080Z",
     "start_time": "2019-09-27T06:42:25.577116Z"
    }
   },
   "outputs": [],
   "source": [
    "num_of_samples = data_shuffled.shape[0]\n",
    "split_line = int(num_of_samples * 0.7)\n",
    "train_data = data.iloc[:split_line]\n",
    "test_data = data.iloc[split_line:]\n",
    "data.shape"
   ]
  },
  {
   "cell_type": "code",
   "execution_count": null,
   "metadata": {
    "ExecuteTime": {
     "end_time": "2019-09-27T06:31:58.497295Z",
     "start_time": "2019-09-27T06:31:58.490292Z"
    }
   },
   "outputs": [],
   "source": [
    "train_data.shape"
   ]
  },
  {
   "cell_type": "code",
   "execution_count": null,
   "metadata": {
    "ExecuteTime": {
     "end_time": "2019-09-27T06:31:58.945295Z",
     "start_time": "2019-09-27T06:31:58.938293Z"
    }
   },
   "outputs": [],
   "source": [
    "test_data.shape"
   ]
  },
  {
   "cell_type": "markdown",
   "metadata": {},
   "source": [
    "## 4. 编写模型"
   ]
  },
  {
   "cell_type": "code",
   "execution_count": null,
   "metadata": {},
   "outputs": [],
   "source": [
    "def get_w(x, y):\n",
    "    '''\n",
    "    这个函数是计算模型w的值的函数，\n",
    "    传入的参数分别是x和y，表示数据与标记\n",
    "    '''\n",
    "    m = len(x)\n",
    "    x_mean = np.mean(x)\n",
    "    numerator = np.sum((x-x_mean)*(y-np.mean(y)))\n",
    "    denominator = np.sum((x-x_mean)**2)\n",
    "    w = numerator/denominator\n",
    "    return w"
   ]
  },
  {
   "cell_type": "code",
   "execution_count": null,
   "metadata": {},
   "outputs": [],
   "source": [
    "def get_b(x, y, w):\n",
    "    '''\n",
    "    这个函数是计算模型b的值的函数，\n",
    "    传入的参数分别是x, y, w，表示数据，标记以及模型的w值\n",
    "    '''\n",
    "    m = len(x)\n",
    "    b = np.mean(y)-w*np.mean(x)\n",
    "    return b"
   ]
  },
  {
   "cell_type": "markdown",
   "metadata": {},
   "source": [
    "下面这个类，就是一个最简单的一元线性回归的类，我们已经帮你实现好了三个方法"
   ]
  },
  {
   "cell_type": "code",
   "execution_count": null,
   "metadata": {},
   "outputs": [],
   "source": [
    "class myLinearRegression:\n",
    "    def __init__(self):\n",
    "        '''\n",
    "        类的初始化方法，不需要初始化的参数\n",
    "        这里设置了两个成员变量，用来存储模型w和b的值\n",
    "        '''\n",
    "        self.w = None\n",
    "        self.b = None\n",
    "    \n",
    "    def fit(self, x, y):\n",
    "        '''\n",
    "        这里需要编写训练的函数，也就是调用模型的fit方法，传入特征x的数据和标记y的数据\n",
    "        这个方法就可以求解出w和b\n",
    "        '''\n",
    "        self.w = get_w(x, y)\n",
    "        self.b = get_b(x, y, self.w)\n",
    "        \n",
    "    def predict(self, x):\n",
    "        '''\n",
    "        这是预测的函数，传入特征的数据，返回模型预测的结果\n",
    "        '''\n",
    "        if self.w == None or self.b == None:\n",
    "            print(\"模型还未训练，请先调用fit方法训练\")\n",
    "            return \n",
    "        \n",
    "        return self.w * x + self.b"
   ]
  },
  {
   "cell_type": "markdown",
   "metadata": {},
   "source": [
    "## 5. 预测"
   ]
  },
  {
   "cell_type": "code",
   "execution_count": null,
   "metadata": {},
   "outputs": [],
   "source": [
    "model1 = myLinearRegression()\n",
    "model1.fit(train_data['TV'], train_data['Sales'])\n",
    "prediction1 = model1.predict(test_data['TV'])"
   ]
  },
  {
   "cell_type": "markdown",
   "metadata": {},
   "source": [
    "## 6. 性能度量"
   ]
  },
  {
   "cell_type": "code",
   "execution_count": null,
   "metadata": {},
   "outputs": [],
   "source": [
    "def MAE(y_hat, y):\n",
    "    # 请你完成MAE的计算过程\n",
    "    # YOUR CODE HERE\n",
    "    mae = np.mean(np.abs(y_hat - y))\n",
    "    return mae"
   ]
  },
  {
   "cell_type": "code",
   "execution_count": null,
   "metadata": {},
   "outputs": [],
   "source": [
    "def RMSE(y_hat, y):\n",
    "    # 请你完成RMSE的计算过程\n",
    "    # YOUR CODE HERE\n",
    "    rmse = np.sqrt(np.mean((y_hat - y) ** 2))\n",
    "    return rmse"
   ]
  },
  {
   "cell_type": "markdown",
   "metadata": {},
   "source": [
    "在此计算出模型在测试集上的MAE与RMSE值"
   ]
  },
  {
   "cell_type": "code",
   "execution_count": null,
   "metadata": {},
   "outputs": [],
   "source": [
    "mae1 = MAE(prediction1, test_data['Sales'])\n",
    "rmse1 = RMSE(prediction1, test_data['Sales'])\n",
    "print(\"模型1，特征：TV\")\n",
    "print(\"MAE:\", mae1)\n",
    "print(\"RMSE:\", rmse1)"
   ]
  },
  {
   "cell_type": "markdown",
   "metadata": {},
   "source": [
    "## 7. 模型预测效果可视化"
   ]
  },
  {
   "cell_type": "code",
   "execution_count": null,
   "metadata": {},
   "outputs": [],
   "source": [
    "import matplotlib.pyplot as plt\n",
    "%matplotlib inline"
   ]
  },
  {
   "cell_type": "code",
   "execution_count": null,
   "metadata": {},
   "outputs": [],
   "source": [
    "plt.figure(figsize = (16, 6))\n",
    "plt.subplot(121)\n",
    "plt.plot(train_data['TV'].values, train_data['Sales'].values, '.', label = 'training data')\n",
    "plt.plot(train_data['TV'].values, model1.predict(train_data['TV']), '-', label = 'prediction')\n",
    "plt.xlabel(\"TV\")\n",
    "plt.ylabel('Sales')\n",
    "plt.title(\"training set\")\n",
    "plt.legend()\n",
    "plt.subplot(122)\n",
    "plt.plot(test_data['TV'].values, test_data['Sales'].values, '.', label = 'testing data')\n",
    "plt.plot(test_data['TV'].values, prediction1, '-', label = 'prediction')\n",
    "plt.xlabel(\"TV\")\n",
    "plt.ylabel('Sales')\n",
    "plt.title(\"testing set\")\n",
    "plt.legend()"
   ]
  },
  {
   "cell_type": "markdown",
   "metadata": {},
   "source": [
    "# 使用Radio作为特征，完成模型的训练，指标计算，可视化"
   ]
  },
  {
   "cell_type": "code",
   "execution_count": null,
   "metadata": {},
   "outputs": [],
   "source": [
    "# YOUR CODE HERE\n",
    "model2 = myLinearRegression()\n",
    "model2.fit(train_data['Radio'], train_data['Sales'])\n",
    "prediction2 = model2.predict(test_data['Radio'])\n",
    "\n",
    "mae2 = MAE(prediction2, test_data['Sales'])\n",
    "rmse2 = RMSE(prediction2, test_data['Sales'])\n",
    "\n",
    "print(\"模型2，特征：Radio\")\n",
    "print(\"MAE:\", mae2)\n",
    "print(\"RMSE:\", rmse2)\n",
    "\n",
    "plt.figure(figsize = (16, 6))\n",
    "plt.subplot(121)\n",
    "plt.plot(train_data['Radio'].values, train_data['Sales'].values, '.', label = 'training data')\n",
    "plt.plot(train_data['Radio'].values, model2.predict(train_data['Radio']), '-', label = 'prediction')\n",
    "plt.xlabel(\"Radio\")\n",
    "plt.ylabel('Sales')\n",
    "plt.title(\"training set\")\n",
    "plt.legend()\n",
    "plt.subplot(122)\n",
    "plt.plot(test_data['Radio'].values, test_data['Sales'].values, '.', label = 'testing data')\n",
    "plt.plot(test_data['Radio'].values, prediction2, '-', label = 'prediction')\n",
    "plt.xlabel(\"Radio\")\n",
    "plt.ylabel('Sales')\n",
    "plt.title(\"testing set\")\n",
    "plt.legend()"
   ]
  },
  {
   "cell_type": "markdown",
   "metadata": {},
   "source": [
    "# 使用Newspaper作为特征，完成模型的训练，指标计算，可视化"
   ]
  },
  {
   "cell_type": "code",
   "execution_count": null,
   "metadata": {},
   "outputs": [],
   "source": [
    "# YOUR CODE HERE\n",
    "model3 = myLinearRegression()\n",
    "model3.fit(train_data['Newspaper'], train_data['Sales'])\n",
    "prediction3 = model3.predict(test_data['Newspaper'])\n",
    "\n",
    "mae3 = MAE(prediction3, test_data['Sales'])\n",
    "rmse3 = RMSE(prediction3, test_data['Sales'])\n",
    "\n",
    "print(\"模型3，特征：Newspaper\")\n",
    "print(\"MAE:\", mae3)\n",
    "print(\"RMSE:\", rmse3)\n",
    "\n",
    "plt.figure(figsize = (16, 6))\n",
    "plt.subplot(121)\n",
    "plt.plot(train_data['Newspaper'].values, train_data['Sales'].values, '.', label = 'training data')\n",
    "plt.plot(train_data['Newspaper'].values, model3.predict(train_data['Newspaper']), '-', label = 'prediction')\n",
    "plt.xlabel(\"Newspaper\")\n",
    "plt.ylabel('Sales')\n",
    "plt.title(\"training set\")\n",
    "plt.legend()\n",
    "plt.subplot(122)\n",
    "plt.plot(test_data['Newspaper'].values, test_data['Sales'].values, '.', label = 'testing data')\n",
    "plt.plot(test_data['Newspaper'].values, prediction3, '-', label = 'prediction')\n",
    "plt.xlabel(\"TNewspaper\")\n",
    "plt.ylabel('Sales')\n",
    "plt.title(\"testing set\")\n",
    "plt.legend()"
   ]
  },
  {
   "cell_type": "markdown",
   "metadata": {},
   "source": [
    "# 选做：剔除训练集中的离群值(outlier)，然后重新训练模型，观察模型预测性能的变化\n",
    "###### 提示：可以使用下面的代码处理数据"
   ]
  },
  {
   "cell_type": "code",
   "execution_count": null,
   "metadata": {},
   "outputs": [],
   "source": [
    "# YOUR CODE HERE\n",
    "def remove_outliers(data, feature):\n",
    "    # 计算特征的均值和标准差\n",
    "    mean = np.mean(data[feature])\n",
    "    std = np.std(data[feature])\n",
    "    \n",
    "    # 定义离群值的阈值，这里设置为3倍标准差\n",
    "    threshold = 3 * std\n",
    "    \n",
    "    # 剔除超过阈值的样本\n",
    "    data = data[np.abs(data[feature] - mean) < threshold]\n",
    "    \n",
    "    return data\n",
    "\n",
    "# 剔除训练集中的离群值\n",
    "train_data_cleaned = train_data.copy()\n",
    "train_data_cleaned = remove_outliers(train_data_cleaned, 'TV')\n",
    "train_data_cleaned = remove_outliers(train_data_cleaned, 'Radio')\n",
    "train_data_cleaned = remove_outliers(train_data_cleaned, 'Newspaper')"
   ]
  },
  {
   "cell_type": "code",
   "execution_count": null,
   "metadata": {},
   "outputs": [],
   "source": [
    "# YOUR CODE HERE\n",
    "# 分别训练剔除离群值后的模型\n",
    "model1_cleaned = myLinearRegression()\n",
    "model1_cleaned.fit(train_data_cleaned['TV'], train_data_cleaned['Sales'])\n",
    "prediction1_cleaned = model1_cleaned.predict(test_data['TV'])\n",
    "model2_cleaned = myLinearRegression()\n",
    "model2_cleaned.fit(train_data_cleaned['Radio'], train_data_cleaned['Sales'])\n",
    "prediction2_cleaned = model2_cleaned.predict(test_data['Radio'])\n",
    "model3_cleaned = myLinearRegression()\n",
    "model3_cleaned.fit(train_data_cleaned['Newspaper'], train_data_cleaned['Sales'])\n",
    "prediction3_cleaned = model3_cleaned.predict(test_data['Newspaper'])\n",
    "\n",
    "# 计算剔除离群值后的MAE和RMSE\n",
    "mae1_cleaned = MAE(prediction1_cleaned, test_data['Sales'])\n",
    "rmse1_cleaned = RMSE(prediction1_cleaned, test_data['Sales'])\n",
    "mae2_cleaned = MAE(prediction2_cleaned, test_data['Sales'])\n",
    "rmse2_cleaned = RMSE(prediction2_cleaned, test_data['Sales'])\n",
    "mae3_cleaned = MAE(prediction3_cleaned, test_data['Sales'])\n",
    "rmse3_cleaned = RMSE(prediction3_cleaned, test_data['Sales'])\n",
    "\n",
    "print(\"模型1，特征：TV\")\n",
    "print(\"MAE:\", mae1_cleaned)\n",
    "print(\"RMSE:\", rmse1_cleaned)\n",
    "print(\"模型2，特征：Radio\")\n",
    "print(\"MAE:\", mae2_cleaned)\n",
    "print(\"RMSE:\", rmse2_cleaned)\n",
    "print(\"模型3，特征：Newspaper\")\n",
    "print(\"MAE:\", mae3_cleaned)\n",
    "print(\"RMSE:\", rmse3_cleaned)"
   ]
  },
  {
   "cell_type": "markdown",
   "metadata": {},
   "source": [
    "以三倍标准差为标准来剔除离群值，训练模型观察MAE和RMSE，变化效果不明显"
   ]
  },
  {
   "cell_type": "code",
   "execution_count": null,
   "metadata": {},
   "outputs": [],
   "source": []
  }
 ],
 "metadata": {
  "kernelspec": {
   "display_name": "Python 3 (ipykernel)",
   "language": "python",
   "name": "python3"
  },
  "language_info": {
   "codemirror_mode": {
    "name": "ipython",
    "version": 3
   },
   "file_extension": ".py",
   "mimetype": "text/x-python",
   "name": "python",
   "nbconvert_exporter": "python",
   "pygments_lexer": "ipython3",
   "version": "3.9.13"
  },
  "toc": {
   "base_numbering": 1,
   "nav_menu": {},
   "number_sections": true,
   "sideBar": true,
   "skip_h1_title": false,
   "title_cell": "Table of Contents",
   "title_sidebar": "Contents",
   "toc_cell": false,
   "toc_position": {},
   "toc_section_display": true,
   "toc_window_display": false
  },
  "vscode": {
   "interpreter": {
    "hash": "49cb93f377a7abe7414b7b0f21fb3017538004a126cf690fb524202736b7fb92"
   }
  }
 },
 "nbformat": 4,
 "nbformat_minor": 2
}
