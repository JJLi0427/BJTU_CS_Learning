{
 "cells": [
  {
   "cell_type": "markdown",
   "metadata": {},
   "source": [
    "# 多元线性回归/对数线性回归（二选一）"
   ]
  },
  {
   "cell_type": "markdown",
   "metadata": {},
   "source": [
    "## 一、多元线性回归\n",
    "这部分的内容是要求大家完成多元线性回归，我们会先带着大家使用sklearn做一元线性回归的十折交叉验证，多元线性回归大家可以仿照着完成"
   ]
  },
  {
   "cell_type": "markdown",
   "metadata": {},
   "source": [
    "### 1. 读取数据"
   ]
  },
  {
   "cell_type": "code",
   "execution_count": null,
   "metadata": {},
   "outputs": [],
   "source": [
    "import pandas as pd"
   ]
  },
  {
   "cell_type": "code",
   "execution_count": null,
   "metadata": {},
   "outputs": [],
   "source": [
    "# 读取数据\n",
    "data = pd.read_csv('data/advertising/advertising.csv')\n"
   ]
  },
  {
   "cell_type": "code",
   "execution_count": null,
   "metadata": {},
   "outputs": [],
   "source": [
    "data.head()"
   ]
  },
  {
   "cell_type": "markdown",
   "metadata": {},
   "source": [
    "### 2. 引入模型"
   ]
  },
  {
   "cell_type": "code",
   "execution_count": null,
   "metadata": {},
   "outputs": [],
   "source": [
    "from sklearn.linear_model import LinearRegression\n",
    "from sklearn.metrics import mean_absolute_error\n",
    "from sklearn.metrics import mean_squared_error\n",
    "from sklearn.model_selection import cross_val_predict"
   ]
  },
  {
   "cell_type": "markdown",
   "metadata": {},
   "source": [
    "### 3. 使用sklearn完成一元线性回归的十折交叉验证验证"
   ]
  },
  {
   "cell_type": "markdown",
   "metadata": {},
   "source": [
    "#### 创建模型"
   ]
  },
  {
   "cell_type": "code",
   "execution_count": null,
   "metadata": {},
   "outputs": [],
   "source": [
    "model = LinearRegression()"
   ]
  },
  {
   "cell_type": "markdown",
   "metadata": {},
   "source": [
    "#### 选取数据"
   ]
  },
  {
   "cell_type": "code",
   "execution_count": null,
   "metadata": {},
   "outputs": [],
   "source": [
    "features = ['TV']\n",
    "x = data[features]\n",
    "y = data['Sales']"
   ]
  },
  {
   "cell_type": "markdown",
   "metadata": {},
   "source": [
    "#### 做十折交叉验证的预测"
   ]
  },
  {
   "cell_type": "code",
   "execution_count": null,
   "metadata": {},
   "outputs": [],
   "source": [
    "prediction = cross_val_predict(model, x, y, cv = 10)"
   ]
  },
  {
   "cell_type": "markdown",
   "metadata": {},
   "source": [
    "这十折交叉验证是按顺序做的，会先将前10%的数据作为测试集，然后会往后顺延到10%到20%，最后将这十份的预测值按顺序拼接后返回"
   ]
  },
  {
   "cell_type": "code",
   "execution_count": null,
   "metadata": {},
   "outputs": [],
   "source": [
    "prediction.shape"
   ]
  },
  {
   "cell_type": "markdown",
   "metadata": {},
   "source": [
    "### 4. 计算评价指标"
   ]
  },
  {
   "cell_type": "markdown",
   "metadata": {},
   "source": [
    "#### MAE"
   ]
  },
  {
   "cell_type": "code",
   "execution_count": null,
   "metadata": {},
   "outputs": [],
   "source": [
    "mean_absolute_error(prediction, data['Sales'])"
   ]
  },
  {
   "cell_type": "markdown",
   "metadata": {},
   "source": [
    "#### RMSE"
   ]
  },
  {
   "cell_type": "code",
   "execution_count": null,
   "metadata": {},
   "outputs": [],
   "source": [
    "mean_squared_error(prediction, data['Sales']) ** 0.5"
   ]
  },
  {
   "cell_type": "markdown",
   "metadata": {},
   "source": [
    "### 5. 请你选择多种特征进行组合，完成多元线性回归，并对比不同的特征组合，它们训练出的模型在十折交叉验证上MAE与RMSE的差别，至少完成3组"
   ]
  },
  {
   "cell_type": "code",
   "execution_count": null,
   "metadata": {
    "scrolled": true
   },
   "outputs": [],
   "source": [
    "# YOUR CODE HERE\n",
    "features1 = ['TV', 'Radio']\n",
    "x1 = data[features1]\n",
    "y1 = data['Sales']\n",
    "prediction1 = cross_val_predict(model, x1, y1, cv = 10)\n",
    "mae=mean_absolute_error(prediction1, data['Sales'])\n",
    "rmse=mean_squared_error(prediction1, data['Sales']) ** 0.5\n",
    "print(\"Model-1:\\nMAE:\",mae,\"\\nRMSE:\",rmse)"
   ]
  },
  {
   "cell_type": "code",
   "execution_count": null,
   "metadata": {},
   "outputs": [],
   "source": [
    "# YOUR CODE HERE\n",
    "features2 = ['TV', 'Newspaper']\n",
    "x2 = data[features2]\n",
    "y2 = data['Sales']\n",
    "prediction2 = cross_val_predict(model, x2, y2, cv = 10)\n",
    "mae=mean_absolute_error(prediction2, data['Sales'])\n",
    "rmse=mean_squared_error(prediction2, data['Sales']) ** 0.5\n",
    "print(\"Model-2:\\nMAE:\",mae,\"\\nRMSE:\",rmse)"
   ]
  },
  {
   "cell_type": "code",
   "execution_count": null,
   "metadata": {},
   "outputs": [],
   "source": [
    "# YOUR CODE HERE\n",
    "features3 = ['Newspaper', 'Radio']\n",
    "x3 = data[features3]\n",
    "y3 = data['Sales']\n",
    "prediction3 = cross_val_predict(model, x3, y3, cv = 10)\n",
    "mae=mean_absolute_error(prediction3, data['Sales'])\n",
    "rmse=mean_squared_error(prediction3, data['Sales']) ** 0.5\n",
    "print(\"Model-3:\\nMAE:\",mae,\"\\nRMSE:\",rmse)"
   ]
  },
  {
   "cell_type": "code",
   "execution_count": null,
   "metadata": {},
   "outputs": [],
   "source": [
    "# YOUR CODE HERE\n",
    "features4 = ['TV', 'Radio', 'Newspaper']\n",
    "x4 = data[features4]\n",
    "y4 = data['Sales']\n",
    "prediction4 = cross_val_predict(model, x4, y4, cv = 10)\n",
    "mae=mean_absolute_error(prediction4, data['Sales'])\n",
    "rmse=mean_squared_error(prediction4, data['Sales']) ** 0.5\n",
    "print(\"Model-4:\\nMAE:\",mae,\"\\nRMSE:\",rmse)"
   ]
  },
  {
   "cell_type": "markdown",
   "metadata": {},
   "source": [
    "###### 双击此处填写\n",
    "1. 模型1使用的特征：'TV', 'Radio'\n",
    "2. 模型2使用的特征：'TV', 'Newspaper'\n",
    "3. 模型3使用的特征：'Newspaper', 'Radio'\n",
    "4. 模型4使用的特征：'TV', 'Radio', 'Newspaper'\n",
    "\n",
    "模型|MAE|RMSE\n",
    "-|-|-\n",
    "模型1 | 1.2621936422519535 | 1.6818990518213202\n",
    "模型2 | 1.776707605359968 | 2.2492610419402657\n",
    "模型3 | 4.3163332911165995 | 5.042150499491994\n",
    "模型4 | 1.2644541807760776 | 1.685774006914065"
   ]
  },
  {
   "cell_type": "code",
   "execution_count": null,
   "metadata": {},
   "outputs": [],
   "source": [
    "from sklearn.preprocessing import PolynomialFeatures\n",
    "\n",
    "# 使用TV和Radio的二次幂作为特征\n",
    "poly_features2 = PolynomialFeatures(degree=2, include_bias=False)\n",
    "x_poly2 = poly_features2.fit_transform(x1)\n",
    "prediction5 = cross_val_predict(model, x_poly2, y1, cv=10)\n",
    "mae = mean_absolute_error(prediction5, data['Sales'])\n",
    "rmse = mean_squared_error(prediction5, data['Sales']) ** 0.5\n",
    "print(\"Model-2次幂:\\nMAE:\", mae, \"\\nRMSE:\", rmse)"
   ]
  },
  {
   "cell_type": "code",
   "execution_count": null,
   "metadata": {},
   "outputs": [],
   "source": [
    "# 使用TV和Radio的三次幂作为特征\n",
    "poly_features3 = PolynomialFeatures(degree=3, include_bias=False)\n",
    "x_poly3 = poly_features3.fit_transform(x1)\n",
    "prediction6 = cross_val_predict(model, x_poly3, y1, cv=10)\n",
    "mae = mean_absolute_error(prediction6, data['Sales'])\n",
    "rmse = mean_squared_error(prediction6, data['Sales']) ** 0.5\n",
    "print(\"Model-3次幂:\\nMAE:\", mae, \"\\nRMSE:\", rmse)"
   ]
  },
  {
   "cell_type": "markdown",
   "metadata": {},
   "source": [
    "5. 模型5使用的特征：'TV', 'Radio' 2次幂\n",
    "6. 模型16使用的特征：'TV', 'Radio' 3次幂\n",
    "\n",
    "模型|MAE|RMSE\n",
    "-|-|-\n",
    "模型5 | 1.0295180853375854 | 1.3890476306368063\n",
    "模型6 | 0.9900309987172708 | 1.3714669912830202"
   ]
  },
  {
   "cell_type": "code",
   "execution_count": null,
   "metadata": {},
   "outputs": [],
   "source": []
  }
 ],
 "metadata": {
  "kernelspec": {
   "display_name": "Python 3 (ipykernel)",
   "language": "python",
   "name": "python3"
  },
  "language_info": {
   "codemirror_mode": {
    "name": "ipython",
    "version": 3
   },
   "file_extension": ".py",
   "mimetype": "text/x-python",
   "name": "python",
   "nbconvert_exporter": "python",
   "pygments_lexer": "ipython3",
   "version": "3.9.13"
  },
  "toc": {
   "base_numbering": 1,
   "nav_menu": {},
   "number_sections": true,
   "sideBar": true,
   "skip_h1_title": false,
   "title_cell": "Table of Contents",
   "title_sidebar": "Contents",
   "toc_cell": false,
   "toc_position": {},
   "toc_section_display": true,
   "toc_window_display": false
  },
  "vscode": {
   "interpreter": {
    "hash": "49cb93f377a7abe7414b7b0f21fb3017538004a126cf690fb524202736b7fb92"
   }
  }
 },
 "nbformat": 4,
 "nbformat_minor": 2
}
