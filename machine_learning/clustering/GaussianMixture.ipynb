{
 "cells": [
  {
   "cell_type": "markdown",
   "metadata": {
    "collapsed": true
   },
   "source": [
    "# 第一题：使用sklearn的GaussianMixture完成聚类\n",
    "\n",
    "实验内容：\n",
    "1. 使用sklearn的GaussianMixture在Breast_Cancer_Wisconsin数据集上完成聚类任务\n",
    "2. 对聚类结果可视化\n",
    "3. 对比外部指标FMI和NMI\n",
    "4. 选取数据集部分特征进行GaussianMixture聚类，然后对聚类结果进行可视化，并与全量特征的聚类结果进行对比分析"
   ]
  },
  {
   "cell_type": "markdown",
   "metadata": {},
   "source": [
    "# 1. 导入模块"
   ]
  },
  {
   "cell_type": "code",
   "execution_count": null,
   "metadata": {},
   "outputs": [],
   "source": [
    "import numpy as np\n",
    "import pandas as pd \n",
    "import matplotlib.pyplot as plt\n",
    "%matplotlib inline\n",
    "\n",
    "import warnings\n",
    "warnings.filterwarnings('ignore')"
   ]
  },
  {
   "cell_type": "markdown",
   "metadata": {},
   "source": [
    "# 2. 导入数据集"
   ]
  },
  {
   "cell_type": "code",
   "execution_count": null,
   "metadata": {},
   "outputs": [],
   "source": [
    "data = pd.read_csv('data\\Breast_Cancer_Wisconsin\\data')"
   ]
  },
  {
   "cell_type": "code",
   "execution_count": null,
   "metadata": {},
   "outputs": [],
   "source": [
    "data = data.values \n",
    "data_x = data[:,2:-1]\n",
    "data_y = data[:,1:2]"
   ]
  },
  {
   "cell_type": "code",
   "execution_count": null,
   "metadata": {},
   "outputs": [],
   "source": [
    "print(data_x.shape)"
   ]
  },
  {
   "cell_type": "markdown",
   "metadata": {},
   "source": [
    "# 3. 导入模型"
   ]
  },
  {
   "cell_type": "markdown",
   "metadata": {},
   "source": [
    "导入高斯混合模型模型"
   ]
  },
  {
   "cell_type": "code",
   "execution_count": null,
   "metadata": {},
   "outputs": [],
   "source": [
    "from sklearn.mixture import GaussianMixture"
   ]
  },
  {
   "cell_type": "markdown",
   "metadata": {},
   "source": [
    "# 4. 训练模型"
   ]
  },
  {
   "cell_type": "code",
   "execution_count": null,
   "metadata": {},
   "outputs": [],
   "source": [
    "gmm = GaussianMixture(n_components=2)\n",
    "gmm.fit(data_x)"
   ]
  },
  {
   "cell_type": "markdown",
   "metadata": {},
   "source": [
    "高斯混合模型需要使用predict函数预测类标记"
   ]
  },
  {
   "cell_type": "code",
   "execution_count": null,
   "metadata": {},
   "outputs": [],
   "source": [
    "y_hat = gmm.predict(data_x)"
   ]
  },
  {
   "cell_type": "markdown",
   "metadata": {},
   "source": [
    "聚类结果统计"
   ]
  },
  {
   "cell_type": "code",
   "execution_count": null,
   "metadata": {},
   "outputs": [],
   "source": [
    "def getResult(data_y,y_hat):\n",
    "    true_labels = data_y.reshape(-1)\n",
    "    cluster = {}\n",
    "    # 构造簇\n",
    "    for i in range(len(y_hat)):\n",
    "        cluster_label = y_hat[i]\n",
    "        if cluster_label not in cluster:\n",
    "            cluster[cluster_label] = {}\n",
    "    # 构造簇内类别标签\n",
    "    for cluster_label in cluster:\n",
    "        for true_label in list(set(true_labels)):\n",
    "            cluster[cluster_label][true_label] = 0\n",
    "    # 添加簇内数据\n",
    "    for i in range(len(y_hat)):\n",
    "            cluster_label = y_hat[i]\n",
    "            cluster[cluster_label][true_labels[i]] +=1\n",
    "    # 按照簇序号排序\n",
    "    cluster = dict(sorted(cluster.items(),key = lambda x:x[0]))\n",
    "    return cluster\n",
    "cluster = getResult(data_y,y_hat)\n",
    "print(cluster)"
   ]
  },
  {
   "cell_type": "markdown",
   "metadata": {},
   "source": [
    "# 5. 聚类结果可视化"
   ]
  },
  {
   "cell_type": "code",
   "execution_count": null,
   "metadata": {},
   "outputs": [],
   "source": [
    "def draw_bar(cluster_data):\n",
    "    # 构造绘图数据\n",
    "    y_data = {}\n",
    "    for cluster_label in cluster_data:\n",
    "        for true_label in cluster_data[cluster_label]:\n",
    "            y_data[true_label] = []\n",
    "        break\n",
    "    for cluster_label in cluster_data:\n",
    "        for true_label,num in cluster_data[cluster_label].items():\n",
    "            y_data[true_label] +=[num]\n",
    "\n",
    "    # 绘图\n",
    "    bar_width = 0.35\n",
    "    t = 0  # 偏移量\n",
    "    for key,data in y_data.items():\n",
    "        plt.bar(np.arange(len(data))+t,data,label = key,width = bar_width)\n",
    "        t+=bar_width\n",
    "\n",
    "    labels = [\"cluster \"+str(l) for l in cluster_data]\n",
    "    plt.xticks(np.arange(len(data))+bar_width-0.2,labels)\n",
    "    plt.title(\"Cluster result\")\n",
    "    plt.legend()\n",
    "draw_bar(cluster)"
   ]
  },
  {
   "cell_type": "markdown",
   "metadata": {},
   "source": [
    "从可视化效果可以看出，高斯混合聚类在该数据集上表现的比较好"
   ]
  },
  {
   "cell_type": "markdown",
   "metadata": {},
   "source": [
    "## 6. 指标计算\n",
    "\n",
    "我们这里选用两个外部指标，FMI和NMI。"
   ]
  },
  {
   "cell_type": "code",
   "execution_count": null,
   "metadata": {},
   "outputs": [],
   "source": [
    "from sklearn.metrics import normalized_mutual_info_score\n",
    "from sklearn.metrics import fowlkes_mallows_score"
   ]
  },
  {
   "cell_type": "code",
   "execution_count": null,
   "metadata": {},
   "outputs": [],
   "source": [
    "normalized_mutual_info_score(data_y.reshape(-1), gmm.predict(data_x))"
   ]
  },
  {
   "cell_type": "code",
   "execution_count": null,
   "metadata": {},
   "outputs": [],
   "source": [
    "fowlkes_mallows_score(data_y.reshape(-1), gmm.predict(data_x))"
   ]
  },
  {
   "cell_type": "markdown",
   "metadata": {},
   "source": [
    "# 7. 选取数据集部分特征进行GaussianMixture聚类：并对比聚类结果"
   ]
  },
  {
   "cell_type": "code",
   "execution_count": null,
   "metadata": {},
   "outputs": [],
   "source": [
    "data = pd.read_csv('data\\Breast_Cancer_Wisconsin\\data')"
   ]
  },
  {
   "cell_type": "code",
   "execution_count": null,
   "metadata": {},
   "outputs": [],
   "source": [
    "# YOUR CODE HERE\n",
    "# 选取部分列特征，并构造数据集\n",
    "selected_features = data.iloc[:, 2:12] # 取10个特征"
   ]
  },
  {
   "cell_type": "code",
   "execution_count": null,
   "metadata": {},
   "outputs": [],
   "source": [
    "# YOUR CODE HERE\n",
    "# 模型定义，训练和预测\n",
    "gmm_selected = GaussianMixture(n_components=2)\n",
    "gmm_selected.fit(selected_features)\n",
    "y_hat_selected = gmm_selected.predict(selected_features)"
   ]
  },
  {
   "cell_type": "code",
   "execution_count": null,
   "metadata": {},
   "outputs": [],
   "source": [
    "# YOUR CODE HERE\n",
    "# 聚类结果可视化\n",
    "cluster_selected = getResult(data_y, y_hat_selected)\n",
    "print(cluster_selected)\n",
    "draw_bar(cluster_selected)"
   ]
  },
  {
   "cell_type": "code",
   "execution_count": null,
   "metadata": {},
   "outputs": [],
   "source": [
    "# YOUR CODE HERE\n",
    "# 计算评价指标FMI和NMI\n",
    "print(\"NMI for selected features: \", normalized_mutual_info_score(data_y.reshape(-1), gmm_selected.predict(selected_features)))\n",
    "print(\"FMI for selected features: \", fowlkes_mallows_score(data_y.reshape(-1), gmm_selected.predict(selected_features)))"
   ]
  },
  {
   "cell_type": "code",
   "execution_count": null,
   "metadata": {},
   "outputs": [],
   "source": []
  }
 ],
 "metadata": {
  "kernelspec": {
   "display_name": "Python 3 (ipykernel)",
   "language": "python",
   "name": "python3"
  },
  "language_info": {
   "codemirror_mode": {
    "name": "ipython",
    "version": 3
   },
   "file_extension": ".py",
   "mimetype": "text/x-python",
   "name": "python",
   "nbconvert_exporter": "python",
   "pygments_lexer": "ipython3",
   "version": "3.9.13"
  },
  "vscode": {
   "interpreter": {
    "hash": "d59d9e94944692a2eb8448fb943792b9fe90fc48cb31d275a1de2204134e1b85"
   }
  }
 },
 "nbformat": 4,
 "nbformat_minor": 2
}
