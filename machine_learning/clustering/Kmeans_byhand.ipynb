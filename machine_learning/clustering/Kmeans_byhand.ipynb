{
 "cells": [
  {
   "cell_type": "markdown",
   "metadata": {},
   "source": [
    "# 第三题：手动实现K-means\n",
    "\n",
    "实验内容：\n",
    "1. 实现一个K-means聚类算法，并在Breast_Cancer_Wisconsin数据集上完成聚类任务\n",
    "2. 计算外部指标FMI和NMI\n",
    "3. 对聚类结果可视化"
   ]
  },
  {
   "cell_type": "markdown",
   "metadata": {},
   "source": [
    "# 1. 导入模块"
   ]
  },
  {
   "cell_type": "code",
   "execution_count": null,
   "metadata": {},
   "outputs": [],
   "source": [
    "import numpy as np\n",
    "import pandas as pd\n",
    "import matplotlib.pyplot as plt\n",
    "%matplotlib inline\n",
    "\n",
    "import warnings\n",
    "warnings.filterwarnings('ignore')"
   ]
  },
  {
   "cell_type": "markdown",
   "metadata": {},
   "source": [
    "# 2. 导入数据集"
   ]
  },
  {
   "cell_type": "code",
   "execution_count": null,
   "metadata": {},
   "outputs": [],
   "source": [
    "data = pd.read_csv('data\\Breast_Cancer_Wisconsin\\data')"
   ]
  },
  {
   "cell_type": "code",
   "execution_count": null,
   "metadata": {},
   "outputs": [],
   "source": [
    "data = data.values \n",
    "data_x = data[:,2:-1]\n",
    "data_y = data[:,1:2]\n",
    "print(data_x.shape)"
   ]
  },
  {
   "cell_type": "markdown",
   "metadata": {},
   "source": [
    "# 3. 欧式距离的实现"
   ]
  },
  {
   "cell_type": "code",
   "execution_count": null,
   "metadata": {},
   "outputs": [],
   "source": [
    "def compute_distance(X, y):\n",
    "    '''\n",
    "    计算样本矩阵X与类中心y之间的欧氏距离\n",
    "    '''\n",
    "    # YOUR CODE HERE\n",
    "    X = X.astype(float)\n",
    "    y = y.astype(float)\n",
    "    distance = np.sqrt(np.sum(np.square(X - y), axis=1))\n",
    "    return distance"
   ]
  },
  {
   "cell_type": "code",
   "execution_count": null,
   "metadata": {},
   "outputs": [],
   "source": [
    "print(compute_distance(np.array([[0, 0], [0, 1]]), np.array([0, 1]))) # [ 1.  0.]\n",
    "print(compute_distance(np.array([[0, 0], [0, 1]]), np.array([1, 1]))) # [ 1.41421356  1.        ]"
   ]
  },
  {
   "cell_type": "markdown",
   "metadata": {},
   "source": [
    "下面开始实现K-means聚类算法"
   ]
  },
  {
   "cell_type": "code",
   "execution_count": null,
   "metadata": {},
   "outputs": [],
   "source": [
    "class myKmeans:\n",
    "    def __init__(self, n_clusters, max_iter = 100):\n",
    "        '''\n",
    "        初始化，三个成员变量\n",
    "        \n",
    "        '''\n",
    "        self.n_clusters = n_clusters\n",
    "        self.max_iter = int(max_iter)\n",
    "        self.centroids = None\n",
    "    \n",
    "    def choose_centroid(self, X):\n",
    "        '''\n",
    "        选取类簇中心\n",
    "        \n",
    "        '''\n",
    "        centroids = X[np.random.choice(np.arange(len(X)), self.n_clusters, replace = False), :]\n",
    "        return centroids\n",
    "    \n",
    "    def compute_label(self, X):\n",
    "        '''\n",
    "        给定样本矩阵X，结合类中心矩阵self.centroids，计算样本矩阵X内每个样本属于哪个类簇\n",
    "        \n",
    "        '''\n",
    "        distances = np.empty((len(X), self.n_clusters))\n",
    "        for index in range(len(self.centroids)):\n",
    "            # 计算样本矩阵X所有样本到当前类中心的距离，存储在distances中的第index列中\n",
    "            # YOUR CODE HERE\n",
    "            distances[:, index] = compute_distance(X, self.centroids[index])\n",
    "        # print(distances)\n",
    "        # 取distances每行最小值的下标，这个下标就是这个样本属于的类簇的标记\n",
    "        # YOUR CODE HERE\n",
    "        labels = np.argmin(distances, axis=1)\n",
    "        return labels\n",
    "    \n",
    "    def fit(self, X):\n",
    "        '''\n",
    "        聚类，包含类中心初始化，类中心优化两个部分\n",
    "        \n",
    "        '''\n",
    "        self.centroids = self.choose_centroid(X)\n",
    "        for epoch in range(self.max_iter):\n",
    "            labels = self.compute_label(X)\n",
    "            for index in range(self.n_clusters):\n",
    "                \n",
    "                # 重新计算第 index 个类中心，对属于这个类簇的样本取均值\n",
    "                # YOUR CODE HERE\n",
    "                self.centroids[index, :] = np.mean(X[labels == index], axis=0)"
   ]
  },
  {
   "cell_type": "markdown",
   "metadata": {},
   "source": [
    "模型训练"
   ]
  },
  {
   "cell_type": "code",
   "execution_count": null,
   "metadata": {},
   "outputs": [],
   "source": [
    "## YOUR CODE HERE\n",
    "# 初始化一个2类簇的模型\n",
    "model = myKmeans(n_clusters=2)\n",
    "model.fit(data_x)\n",
    "y_hat = model.compute_label(data_x)"
   ]
  },
  {
   "cell_type": "markdown",
   "metadata": {},
   "source": [
    "聚类结果统计"
   ]
  },
  {
   "cell_type": "code",
   "execution_count": null,
   "metadata": {},
   "outputs": [],
   "source": [
    "def getResult(data_y,y_hat):\n",
    "    true_labels = data_y.reshape(-1)\n",
    "    cluster = {}\n",
    "    # 构造簇\n",
    "    for i in range(len(y_hat)):\n",
    "        cluster_label = y_hat[i]\n",
    "        if cluster_label not in cluster:\n",
    "            cluster[cluster_label] = {}\n",
    "    # 构造簇内类别标签\n",
    "    for cluster_label in cluster:\n",
    "        for true_label in list(set(true_labels)):\n",
    "            cluster[cluster_label][true_label] = 0\n",
    "    # 添加簇内数据\n",
    "    for i in range(len(y_hat)):\n",
    "            cluster_label = y_hat[i]\n",
    "            cluster[cluster_label][true_labels[i]] +=1\n",
    "    # 按照簇序号排序\n",
    "    cluster = dict(sorted(cluster.items(),key = lambda x:x[0]))\n",
    "    return cluster\n",
    "cluster = getResult(data_y,y_hat)\n",
    "print(cluster)"
   ]
  },
  {
   "cell_type": "markdown",
   "metadata": {},
   "source": [
    "# 5. 聚类结果可视化"
   ]
  },
  {
   "cell_type": "code",
   "execution_count": null,
   "metadata": {},
   "outputs": [],
   "source": [
    "def draw_bar(cluster_data):\n",
    "    # 构造绘图数据\n",
    "    y_data = {}\n",
    "    for cluster_label in cluster_data:\n",
    "        for true_label in cluster_data[cluster_label]:\n",
    "            y_data[true_label] = []\n",
    "        break\n",
    "    for cluster_label in cluster_data:\n",
    "        for true_label,num in cluster_data[cluster_label].items():\n",
    "            y_data[true_label] +=[num]\n",
    "\n",
    "    # 绘图\n",
    "    bar_width = 0.35\n",
    "    t = 0  # 偏移量\n",
    "    for key,data in y_data.items():\n",
    "        plt.bar(np.arange(len(data))+t,data,label = key,width = bar_width)\n",
    "        t+=bar_width\n",
    "\n",
    "    labels = [\"cluster \"+str(l) for l in cluster_data]\n",
    "    plt.xticks(np.arange(len(data))+bar_width-0.2,labels)\n",
    "    plt.title(\"Cluster result\")\n",
    "    plt.legend()\n",
    "draw_bar(cluster)"
   ]
  },
  {
   "cell_type": "markdown",
   "metadata": {},
   "source": [
    "# 6. 评价指标\n",
    "\n",
    "这里，我们选用两个外部指标，FMI和NMI。"
   ]
  },
  {
   "cell_type": "code",
   "execution_count": null,
   "metadata": {},
   "outputs": [],
   "source": [
    "from sklearn.metrics import normalized_mutual_info_score\n",
    "from sklearn.metrics import fowlkes_mallows_score"
   ]
  },
  {
   "cell_type": "code",
   "execution_count": null,
   "metadata": {},
   "outputs": [],
   "source": [
    "# YOUR CODE HERE\n",
    "print(\"NMI for selected features: \", normalized_mutual_info_score(data_y.reshape(-1), model.compute_label(data_x)))\n",
    "print(\"FMI for selected features: \", fowlkes_mallows_score(data_y.reshape(-1), model.compute_label(data_x)))"
   ]
  }
 ],
 "metadata": {
  "kernelspec": {
   "display_name": "Python 3 (ipykernel)",
   "language": "python",
   "name": "python3"
  },
  "language_info": {
   "codemirror_mode": {
    "name": "ipython",
    "version": 3
   },
   "file_extension": ".py",
   "mimetype": "text/x-python",
   "name": "python",
   "nbconvert_exporter": "python",
   "pygments_lexer": "ipython3",
   "version": "3.9.13"
  },
  "vscode": {
   "interpreter": {
    "hash": "d59d9e94944692a2eb8448fb943792b9fe90fc48cb31d275a1de2204134e1b85"
   }
  }
 },
 "nbformat": 4,
 "nbformat_minor": 2
}
