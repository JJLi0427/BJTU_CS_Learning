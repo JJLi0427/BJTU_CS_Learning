{
 "cells": [
  {
   "cell_type": "markdown",
   "metadata": {},
   "source": [
    "# 神经网络：线性回归"
   ]
  },
  {
   "cell_type": "markdown",
   "metadata": {},
   "source": [
    "实验内容：\n",
    "\n",
    "使用advertising-dataset广告预测数据集，以TV, Radio, Newspaper三种特征作为模型的输入，Sales作为模型的输出\n",
    "1. 学会梯度下降的基本思想\n",
    "2. 学会使用梯度下降求解线性回归\n",
    "3. 了解归一化处理的作用"
   ]
  },
  {
   "cell_type": "markdown",
   "metadata": {},
   "source": [
    "## 1. 导入数据"
   ]
  },
  {
   "cell_type": "markdown",
   "metadata": {},
   "source": [
    "使用advertising-dataset广告预测数据，选3列作为特征"
   ]
  },
  {
   "cell_type": "code",
   "execution_count": 1,
   "metadata": {},
   "outputs": [],
   "source": [
    "import numpy as np\n",
    "import pandas as pd\n",
    "import matplotlib.pyplot as plt\n",
    "%matplotlib inline\n",
    "data = pd.read_csv('data/advertising/advertising.csv')\n",
    "features = ['TV', 'Radio', 'Newspaper']\n",
    "target = 'Sales'\n",
    "data = data[features + [target]]"
   ]
  },
  {
   "cell_type": "markdown",
   "metadata": {},
   "source": [
    "## 2. 数据预处理"
   ]
  },
  {
   "cell_type": "code",
   "execution_count": 2,
   "metadata": {},
   "outputs": [],
   "source": [
    "from sklearn.model_selection import train_test_split\n",
    "trainX, testX, trainY, testY = train_test_split(data[features], data[target], test_size = 0.4, random_state = 32)"
   ]
  },
  {
   "cell_type": "markdown",
   "metadata": {},
   "source": [
    "## 3. 参数初始化"
   ]
  },
  {
   "cell_type": "markdown",
   "metadata": {},
   "source": [
    "这里，我们要初始化参数$\\mathbf{w}$和$b$，其中$\\mathbf{w} \\in \\mathbb{R}^m$，$b \\in \\mathbb{R}$，初始化的策略是将$\\mathbf{w}$初始化成一个随机数矩阵，参数$b$为0。"
   ]
  },
  {
   "cell_type": "code",
   "execution_count": 4,
   "metadata": {},
   "outputs": [],
   "source": [
    "def initialize(m):\n",
    "    '''\n",
    "    参数初始化，将W初始化成一个随机向量，b是一个长度为1的向量\n",
    "    \n",
    "    '''\n",
    "    np.random.seed(32)\n",
    "    W = np.random.normal(size = (m, )) * 0.01\n",
    "    b = np.zeros((1, ))\n",
    "    return W, b"
   ]
  },
  {
   "cell_type": "markdown",
   "metadata": {},
   "source": [
    "## 4. 前向传播"
   ]
  },
  {
   "cell_type": "markdown",
   "metadata": {},
   "source": [
    "这里，我们要完成输入矩阵$\\mathbf{X}$在神经网络中的计算，也就是完成 $z_i = \\mathbf{x}_i\\mathbf{w} + b$ 的计算。"
   ]
  },
  {
   "cell_type": "code",
   "execution_count": 5,
   "metadata": {},
   "outputs": [],
   "source": [
    "def forward(X, W, b):\n",
    "    '''\n",
    "    前向传播，计算Z = XW + b\n",
    "    '''\n",
    "    # 完成Z = XW + b的计算\n",
    "    # YOUR CODE HERE\n",
    "    Z = np.dot(X, W) + b\n",
    "    return Z"
   ]
  },
  {
   "cell_type": "markdown",
   "metadata": {},
   "source": [
    "## 5. 损失函数"
   ]
  },
  {
   "cell_type": "code",
   "execution_count": 7,
   "metadata": {},
   "outputs": [],
   "source": [
    "def mse(y_true, y_pred):\n",
    "    '''\n",
    "    MSE，均方误差\n",
    "    \n",
    "    '''\n",
    "    # 计算MSE\n",
    "    # YOUR CODE HERE\n",
    "    loss = np.mean(np.square(y_true - y_pred))\n",
    "    return loss"
   ]
  },
  {
   "cell_type": "markdown",
   "metadata": {},
   "source": [
    "## 6. 反向传播"
   ]
  },
  {
   "cell_type": "code",
   "execution_count": 9,
   "metadata": {},
   "outputs": [],
   "source": [
    "def compute_gradient(X, Z, y_true):\n",
    "    '''\n",
    "    计算梯度\n",
    "    \n",
    "    '''\n",
    "    n = len(y_true)\n",
    "    # 计算W的梯度\n",
    "    # YOUR CODE HERE\n",
    "    dW = -2 * np.dot(X.T, (y_true - Z)) / n\n",
    "    # 计算b的梯度\n",
    "    # YOUR CODE HERE\n",
    "    db = -2 * np.sum(y_true - Z) / n\n",
    "    return dW, db"
   ]
  },
  {
   "cell_type": "markdown",
   "metadata": {},
   "source": [
    "## 7. 梯度下降"
   ]
  },
  {
   "cell_type": "code",
   "execution_count": 11,
   "metadata": {},
   "outputs": [],
   "source": [
    "def update(dW, db, W, b, learning_rate):\n",
    "    '''\n",
    "    梯度下降，参数更新，不需要返回值，W和b实际上是以引用的形式传入到函数内部，\n",
    "    函数内改变W和b会直接影响到它们本身，所以不需要返回值\n",
    "    '''\n",
    "    W -= learning_rate * dW\n",
    "    b -= learning_rate * db"
   ]
  },
  {
   "cell_type": "code",
   "execution_count": 13,
   "metadata": {},
   "outputs": [],
   "source": [
    "def backward(X, Z, y_true, W, b, learning_rate):\n",
    "    '''\n",
    "    使用compute_gradient和update函数，先计算梯度，再更新参数\n",
    "    \n",
    "    '''\n",
    "    # 计算参数的梯度\n",
    "    # YOUR CODE HERE\n",
    "    dW, db = compute_gradient(X, Z, y_true)\n",
    "    # 更新参数\n",
    "    # YOUR CODE HERE\n",
    "    update(dW, db, W, b, learning_rate)"
   ]
  },
  {
   "cell_type": "markdown",
   "metadata": {},
   "source": [
    "## 8. 训练"
   ]
  },
  {
   "cell_type": "code",
   "execution_count": 15,
   "metadata": {},
   "outputs": [],
   "source": [
    "def train(trainX, trainY, testX, testY, W, b, epochs, learning_rate = 0.01, verbose = False):\n",
    "    '''\n",
    "    训练，我们要迭代epochs次，每次迭代的过程中，做一次前向传播和一次反向传播，更新参数\n",
    "    同时记录训练集和测试集上的损失值，后面画图用。然后循环往复，直到达到最大迭代次数epochs\n",
    "    \n",
    "    '''\n",
    "    training_loss_list = []\n",
    "    testing_loss_list = []\n",
    "    \n",
    "    for epoch in range(epochs):\n",
    "        Z = forward(trainX, W, b)\n",
    "        training_loss = mse(trainY, Z)\n",
    "        testing_loss = mse(testY, forward(testX, W, b))\n",
    "        training_loss_list.append(training_loss)\n",
    "        testing_loss_list.append(testing_loss)\n",
    "        if verbose:\n",
    "            print('epoch %s training loss: %s'%(epoch+1, training_loss))\n",
    "            print('epoch %s testing loss: %s'%(epoch+1, testing_loss))\n",
    "            print()\n",
    "        backward(trainX, Z, trainY, W, b, learning_rate)\n",
    "        \n",
    "    return training_loss_list, testing_loss_list"
   ]
  },
  {
   "cell_type": "markdown",
   "metadata": {},
   "source": [
    "## 9. 检查"
   ]
  },
  {
   "cell_type": "code",
   "execution_count": 17,
   "metadata": {},
   "outputs": [],
   "source": [
    "def plot_loss_curve(training_loss_list, testing_loss_list):\n",
    "    '''\n",
    "    绘制损失值变化曲线\n",
    "    '''\n",
    "    plt.figure(figsize = (10, 6))\n",
    "    plt.plot(training_loss_list, label = 'training loss')\n",
    "    plt.plot(testing_loss_list, label = 'testing loss')\n",
    "    plt.xlabel('epoch')\n",
    "    plt.ylabel('loss')\n",
    "    plt.legend()"
   ]
  },
  {
   "cell_type": "markdown",
   "metadata": {},
   "source": [
    "上面这些函数就是完成整个神经网络需要的函数了\n",
    "\n",
    "|函数名|功能|\n",
    "|-|-|\n",
    "|initialize | 参数初始化|\n",
    "|forward | 给定数据，计算神经网络的输出值|\n",
    "|mse | 给定真值，计算神经网络的预测值与真值之间的差距|\n",
    "|backward | 计算参数的梯度，并实现参数的更新|\n",
    "|compute_gradient | 计算参数的梯度|\n",
    "|update | 参数的更新|\n",
    "|backward | 计算参数梯度，并且更新参数|\n",
    "|train | 训练神经网络|\n",
    "|plot_loss_curve | 绘制损失函数的变化曲线|\n",
    "\n",
    "我们使用参数初始化函数和训练函数，完成神经网络的训练。"
   ]
  },
  {
   "cell_type": "code",
   "execution_count": 18,
   "metadata": {
    "scrolled": true
   },
   "outputs": [
    {
     "name": "stdout",
     "output_type": "stream",
     "text": [
      "epoch 1 training loss: 253.9597844091999\n",
      "epoch 1 testing loss: 274.4937791029965\n",
      "\n",
      "epoch 2 training loss: 79603189.50674823\n",
      "epoch 2 testing loss: 88378582.20804393\n",
      "\n",
      "epoch 3 training loss: 26433646100028.41\n",
      "epoch 3 testing loss: 29354804919701.95\n",
      "\n",
      "epoch 4 training loss: 8.777837329273915e+18\n",
      "epoch 4 testing loss: 9.747891875706296e+18\n",
      "\n",
      "epoch 5 training loss: 2.914861919347206e+24\n",
      "epoch 5 testing loss: 3.236988658844328e+24\n",
      "\n",
      "epoch 6 training loss: 9.679400164472991e+29\n",
      "epoch 6 testing loss: 1.0749088445363751e+30\n",
      "\n",
      "epoch 7 training loss: 3.214244452614835e+35\n",
      "epoch 7 testing loss: 3.569456507583592e+35\n",
      "\n",
      "epoch 8 training loss: 1.0673561610858086e+41\n",
      "epoch 8 testing loss: 1.185311649833794e+41\n",
      "\n",
      "epoch 9 training loss: 3.5443762644780753e+46\n",
      "epoch 9 testing loss: 3.9360717920121835e+46\n",
      "\n",
      "epoch 10 training loss: 1.1769832378552791e+52\n",
      "epoch 10 testing loss: 1.3070538161036677e+52\n",
      "\n",
      "epoch 11 training loss: 3.9084155823853715e+57\n",
      "epoch 11 testing loss: 4.340341763222271e+57\n",
      "\n",
      "epoch 12 training loss: 1.2978700013152667e+63\n",
      "epoch 12 testing loss: 1.4412999977100592e+63\n",
      "\n",
      "epoch 13 training loss: 4.3098450121469225e+68\n",
      "epoch 13 testing loss: 4.78613389618608e+68\n",
      "\n",
      "epoch 14 training loss: 1.4311729225503298e+74\n",
      "epoch 14 testing loss: 1.589334469480064e+74\n",
      "\n",
      "epoch 15 training loss: 4.7525048545096693e+79\n",
      "epoch 15 testing loss: 5.2777128903358816e+79\n",
      "\n",
      "epoch 16 training loss: 1.578167252625873e+85\n",
      "epoch 16 testing loss: 1.752573412815351e+85\n",
      "\n",
      "epoch 17 training loss: 5.24062984364413e+90\n",
      "epoch 17 testing loss: 5.819781468089244e+90\n",
      "\n",
      "epoch 18 training loss: 1.7402592223603997e+96\n",
      "epoch 18 testing loss: 1.9325784636836482e+96\n",
      "\n",
      "epoch 19 training loss: 5.778889659004271e+101\n",
      "epoch 19 testing loss: 6.417525363748899e+101\n",
      "\n",
      "epoch 20 training loss: 1.9189994951240904e+107\n",
      "epoch 20 testing loss: 2.1310716521107883e+107\n",
      "\n"
     ]
    }
   ],
   "source": [
    "m = trainX.shape[1]\n",
    "W, b = initialize(m)\n",
    "training_loss_list, testing_loss_list = train(trainX, trainY, testX, testY, W, b, 20, learning_rate = 0.01, verbose = True)"
   ]
  },
  {
   "cell_type": "markdown",
   "metadata": {},
   "source": [
    "绘制损失值的变化曲线"
   ]
  },
  {
   "cell_type": "code",
   "execution_count": 19,
   "metadata": {},
   "outputs": [
    {
     "data": {
      "image/png": "[encoded data removed]",
      "text/plain": [
       "<Figure size 1000x600 with 1 Axes>"
      ]
     },
     "metadata": {},
     "output_type": "display_data"
    }
   ],
   "source": [
    "plot_loss_curve(training_loss_list, testing_loss_list)"
   ]
  },
  {
   "cell_type": "markdown",
   "metadata": {},
   "source": [
    "通过打印损失的信息我们可以看到损失值持续上升，这就说明哪里出了问题。但是如果所有的测试样例都通过了，就说明我们的实现是没有问题的。运行下面的测试样例，观察哪里出了问题。"
   ]
  },
  {
   "cell_type": "markdown",
   "metadata": {},
   "source": [
    "## 10. 标准化处理"
   ]
  },
  {
   "cell_type": "markdown",
   "metadata": {},
   "source": [
    "标准化处理和第一题一样"
   ]
  },
  {
   "cell_type": "code",
   "execution_count": 21,
   "metadata": {},
   "outputs": [],
   "source": [
    "from sklearn.preprocessing import StandardScaler\n",
    "stand = StandardScaler()\n",
    "trainX_normalized = stand.fit_transform(trainX)\n",
    "testX_normalized = stand.transform(testX)"
   ]
  },
  {
   "cell_type": "markdown",
   "metadata": {},
   "source": [
    "重新训练模型，这次我们迭代40轮，学习率设置为0.1"
   ]
  },
  {
   "cell_type": "code",
   "execution_count": 22,
   "metadata": {},
   "outputs": [],
   "source": [
    "m = trainX.shape[1]\n",
    "W, b = initialize(m)\n",
    "training_loss_list, testing_loss_list = train(trainX_normalized, trainY, testX_normalized, testY, W, b, 40, learning_rate = 0.1, verbose = False)"
   ]
  },
  {
   "cell_type": "markdown",
   "metadata": {},
   "source": [
    "打印损失值变化曲线"
   ]
  },
  {
   "cell_type": "code",
   "execution_count": 23,
   "metadata": {},
   "outputs": [
    {
     "data": {
      "image/png": "[encoded data removed]",
      "text/plain": [
       "<Figure size 1000x600 with 1 Axes>"
      ]
     },
     "metadata": {},
     "output_type": "display_data"
    }
   ],
   "source": [
    "plot_loss_curve(training_loss_list, testing_loss_list)"
   ]
  },
  {
   "cell_type": "markdown",
   "metadata": {},
   "source": [
    "计算测试集上的MSE"
   ]
  },
  {
   "cell_type": "code",
   "execution_count": 24,
   "metadata": {},
   "outputs": [
    {
     "data": {
      "text/plain": [
       "1.8045783304813474"
      ]
     },
     "execution_count": 24,
     "metadata": {},
     "output_type": "execute_result"
    }
   ],
   "source": [
    "prediction = forward(testX_normalized, W, b)\n",
    "mse(testY, prediction) ** 0.5"
   ]
  },
  {
   "cell_type": "code",
   "execution_count": null,
   "metadata": {},
   "outputs": [],
   "source": []
  }
 ],
 "metadata": {
  "kernelspec": {
   "display_name": "Python 3 (ipykernel)",
   "language": "python",
   "name": "python3"
  },
  "language_info": {
   "codemirror_mode": {
    "name": "ipython",
    "version": 3
   },
   "file_extension": ".py",
   "mimetype": "text/x-python",
   "name": "python",
   "nbconvert_exporter": "python",
   "pygments_lexer": "ipython3",
   "version": "3.9.13"
  },
  "vscode": {
   "interpreter": {
    "hash": "57a9c87e9a70bfc756f51474cb13bba73a6f014493757c6865d8755804382445"
   }
  }
 },
 "nbformat": 4,
 "nbformat_minor": 4
}
