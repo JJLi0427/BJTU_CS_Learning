{
 "cells": [
  {
   "cell_type": "code",
   "execution_count": null,
   "id": "deebb5a7",
   "metadata": {},
   "outputs": [],
   "source": [
    "import torch\n",
    "import torch.nn as nn\n",
    "import numpy as np\n",
    "import torchvision\n",
    "from torchvision import transforms\n",
    "import time\n",
    "from torch.utils.data import TensorDataset, DataLoader"
   ]
  },
  {
   "cell_type": "code",
   "execution_count": null,
   "id": "3a825971",
   "metadata": {},
   "outputs": [],
   "source": [
    "# 绘图函数\n",
    "import matplotlib.pyplot as plt\n",
    "def draw_loss(train_loss, test_loss):\n",
    "    x = np.linspace(0, len(train_loss), len(train_loss))\n",
    "    plt.plot(x, train_loss, label=\"Train Loss\", linewidth=1.5)\n",
    "    plt.plot(x, test_loss, label=\"Test Loss\", linewidth=1.5)\n",
    "    plt.xlabel(\"Epoch\")\n",
    "    plt.ylabel(\"Loss\")\n",
    "    plt.legend()\n",
    "    plt.show()"
   ]
  },
  {
   "cell_type": "code",
   "execution_count": null,
   "id": "ac05b24a",
   "metadata": {},
   "outputs": [],
   "source": [
    "# 评价函数\n",
    "def evaluate_accuracy(data_iter, model, loss_func):\n",
    "    acc_sum, test_l_sum, n, c = 0.0, 0.0, 0, 0\n",
    "    for X, y in data_iter:\n",
    "        result = model.forward(X)\n",
    "        acc_sum += (result.argmax(dim=1) == y).float().sum().item()\n",
    "        test_l_sum += loss_func(result, y).item()\n",
    "        n += y.shape[0]\n",
    "        c += 1\n",
    "    return acc_sum / n, test_l_sum / c"
   ]
  },
  {
   "cell_type": "code",
   "execution_count": null,
   "id": "4a445918",
   "metadata": {},
   "outputs": [],
   "source": [
    "# 定义模型\n",
    "# ReLU激活\n",
    "class Net1(nn.Module):\n",
    "    def __init__(self):\n",
    "        super(Net1, self).__init__()\n",
    "        # 模型参数\n",
    "        num_inputs, num_outputs, num_hiddens = indim, outdim, hiddendim\n",
    "        # 模型结构\n",
    "        self.input_layer = lambda x: x.view(x.shape[0], -1)\n",
    "        self.hidden_layer = nn.Sequential(\n",
    "            nn.Linear(num_inputs, num_hiddens),\n",
    "            nn.ReLU()\n",
    "        )\n",
    "        self.output_layer = nn.Linear(num_hiddens, num_outputs)\n",
    "        # 初始化参数\n",
    "        for h_param in self.hidden_layer.parameters():\n",
    "            torch.nn.init.normal_(h_param, mean=0, std=0.01)\n",
    "        for o_param in self.output_layer.parameters():\n",
    "            torch.nn.init.normal_(o_param, mean=0, std=0.01)\n",
    "    def forward(self, x) :\n",
    "        # 前向传播过\n",
    "        flatten_input = self.input_layer(x)\n",
    "        hidden_output = self.hidden_layer(flatten_input)\n",
    "        final_output = self.output_layer(hidden_output)\n",
    "        return final_output"
   ]
  },
  {
   "cell_type": "code",
   "execution_count": null,
   "id": "1aabe44b",
   "metadata": {},
   "outputs": [],
   "source": [
    "# Sigmoid激活\n",
    "class Net2(nn.Module):\n",
    "    def __init__(self):\n",
    "        super(Net2, self).__init__()\n",
    "        # 模型参数\n",
    "        num_inputs, num_outputs, num_hiddens = indim, outdim, hiddendim\n",
    "        # 模型结构\n",
    "        self.input_layer = lambda x: x.view(x.shape[0], -1)\n",
    "        self.hidden_layer = nn.Sequential(\n",
    "            nn.Linear(num_inputs, num_hiddens),\n",
    "            nn.Sigmoid()\n",
    "        )\n",
    "        self.output_layer = nn.Linear(num_hiddens, num_outputs)\n",
    "        # 初始化参数\n",
    "        for h_param in self.hidden_layer.parameters():\n",
    "            torch.nn.init.normal_(h_param, mean=0, std=0.01)\n",
    "        for o_param in self.output_layer.parameters():\n",
    "            torch.nn.init.normal_(o_param, mean=0, std=0.01)\n",
    "    def forward(self, x) :\n",
    "        # 前向传播过\n",
    "        flatten_input = self.input_layer(x)\n",
    "        hidden_output = self.hidden_layer(flatten_input)\n",
    "        final_output = self.output_layer(hidden_output)\n",
    "        return final_output"
   ]
  },
  {
   "cell_type": "code",
   "execution_count": null,
   "id": "a850147f",
   "metadata": {},
   "outputs": [],
   "source": [
    "# ELU激活\n",
    "class Net3(nn.Module):\n",
    "    def __init__(self):\n",
    "        super(Net3, self).__init__()\n",
    "        # 模型参数\n",
    "        num_inputs, num_outputs, num_hiddens = indim, outdim, hiddendim\n",
    "        # 模型结构\n",
    "        self.input_layer = lambda x: x.view(x.shape[0], -1)\n",
    "        self.hidden_layer = nn.Sequential(\n",
    "            nn.Linear(num_inputs, num_hiddens),\n",
    "            nn.ELU()\n",
    "        )\n",
    "        self.output_layer = nn.Linear(num_hiddens, num_outputs)\n",
    "        # 初始化参数\n",
    "        for h_param in self.hidden_layer.parameters():\n",
    "            torch.nn.init.normal_(h_param, mean=0, std=0.01)\n",
    "        for o_param in self.output_layer.parameters():\n",
    "            torch.nn.init.normal_(o_param, mean=0, std=0.01)\n",
    "    def forward(self, x) :\n",
    "        # 前向传播过\n",
    "        flatten_input = self.input_layer(x)\n",
    "        hidden_output = self.hidden_layer(flatten_input)\n",
    "        final_output = self.output_layer(hidden_output)\n",
    "        return final_output"
   ]
  },
  {
   "cell_type": "code",
   "execution_count": null,
   "id": "b1f58f85",
   "metadata": {},
   "outputs": [],
   "source": [
    "def train(net, train_iter, loss_func, num_epochs, lr, optimizer):\n",
    "    train_loss_list = []\n",
    "    test_loss_list = []\n",
    "    for epoch in range(num_epochs):\n",
    "        train_l_sum, train_acc_sum, n, c = 0.0,0.0, 0,0\n",
    "        for X,y in train_iter:\n",
    "            y_hat = net(X)\n",
    "            l = loss_func(y_hat,y)\n",
    "            optimizer.zero_grad()\n",
    "            l.backward()\n",
    "            optimizer.step()\n",
    "            train_l_sum += l.item()\n",
    "            train_acc_sum += (y_hat.argmax(dim=1) == y).sum().item()\n",
    "            n += y.shape[0]\n",
    "            c += 1\n",
    "        test_acc, test_loss = evaluate_accuracy(test_iter, net, loss_func)\n",
    "        train_loss_list.append(train_l_sum / c)\n",
    "        test_loss_list.append(test_loss)\n",
    "        print(' epoch %d, train loss %.4f, test loss %.4f, train acc %.3f, test acc %.3f'\n",
    "              % (epoch + 1,train_l_sum / c, test_loss, train_acc_sum / n, test_acc))\n",
    "    return train_loss_list, test_loss_list"
   ]
  },
  {
   "cell_type": "code",
   "execution_count": null,
   "id": "98c04866",
   "metadata": {},
   "outputs": [],
   "source": [
    "# minist数据集\n",
    "mnist_train = torchvision.datasets.MNIST(root='~/Datasets/MNIST',train=True, download=True, transform=transforms.ToTensor())\n",
    "mnist_test = torchvision.datasets.MNIST(root='~/Datasets/MNIST',train=False, transform=transforms.ToTensor())\n",
    " \n",
    "# 通过DataLoader 读取小批量数据样本\n",
    "batch_size = 32\n",
    "train_iter = DataLoader(mnist_train, batch_size=batch_size, shuffle=True,num_workers=0)\n",
    "test_iter = DataLoader(mnist_test, batch_size=batch_size, shuffle=False,num_workers=0)"
   ]
  },
  {
   "cell_type": "code",
   "execution_count": null,
   "id": "b2a3cc33",
   "metadata": {},
   "outputs": [],
   "source": [
    "indim = 784\n",
    "outdim = 10\n",
    "hiddendim = 256\n",
    "num_epochs = 20\n",
    "lr = 0.01\n",
    "net = Net1()\n",
    "loss = nn.CrossEntropyLoss()\n",
    "optimizer = torch.optim.SGD(net.parameters(), lr)\n",
    "time_start = time.time()\n",
    "train_loss, test_loss = train(net, train_iter, loss, num_epochs, lr, optimizer)\n",
    "time_end = time.time()\n",
    "print(\"time spend: %.6f second\" % (time_end - time_start))\n",
    "draw_loss(train_loss,test_loss)"
   ]
  },
  {
   "cell_type": "code",
   "execution_count": null,
   "id": "46c2f505",
   "metadata": {
    "scrolled": true
   },
   "outputs": [],
   "source": [
    "net = Net2()\n",
    "optimizer = torch.optim.SGD(net.parameters(), lr)\n",
    "time_start = time.time()\n",
    "train_loss, test_loss = train(net, train_iter, loss, num_epochs, lr, optimizer)\n",
    "time_end = time.time()\n",
    "print(\"time spend: %.6f second\" % (time_end - time_start))\n",
    "draw_loss(train_loss,test_loss)"
   ]
  },
  {
   "cell_type": "code",
   "execution_count": null,
   "id": "733d6e2d",
   "metadata": {},
   "outputs": [],
   "source": [
    "net = Net3()\n",
    "optimizer = torch.optim.SGD(net.parameters(), lr)\n",
    "time_start = time.time()\n",
    "train_loss, test_loss = train(net, train_iter, loss, num_epochs, lr, optimizer)\n",
    "time_end = time.time()\n",
    "print(\"time spend: %.6f second\" % (time_end - time_start))\n",
    "draw_loss(train_loss,test_loss)"
   ]
  }
 ],
 "metadata": {
  "kernelspec": {
   "display_name": "Python 3 (ipykernel)",
   "language": "python",
   "name": "python3"
  },
  "language_info": {
   "codemirror_mode": {
    "name": "ipython",
    "version": 3
   },
   "file_extension": ".py",
   "mimetype": "text/x-python",
   "name": "python",
   "nbconvert_exporter": "python",
   "pygments_lexer": "ipython3",
   "version": "3.9.13"
  }
 },
 "nbformat": 4,
 "nbformat_minor": 5
}
