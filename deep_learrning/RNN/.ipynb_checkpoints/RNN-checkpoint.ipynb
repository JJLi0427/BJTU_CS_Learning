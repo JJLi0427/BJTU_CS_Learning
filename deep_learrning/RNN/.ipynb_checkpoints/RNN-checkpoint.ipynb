{
 "cells": [
  {
   "cell_type": "code",
   "execution_count": null,
   "id": "2563607e",
   "metadata": {},
   "outputs": [],
   "source": [
    "import math\n",
    "import torch\n",
    "from torch import nn\n",
    "import numpy as np\n",
    "from datasets import *\n",
    "device = torch.device(\"cuda:0\" if torch.cuda.is_available() else \"cpu\")\n",
    "# 启用CUDA加速"
   ]
  },
  {
   "cell_type": "code",
   "execution_count": null,
   "id": "902449c7",
   "metadata": {},
   "outputs": [],
   "source": [
    "class MyRNN(nn.Module):\n",
    "    def __init__(self, input_size, hidden_size, output_size):\n",
    "\n",
    "        super().__init__()\n",
    "        self.hidden_size = hidden_size\n",
    "        \n",
    "        # 可学习参数的维度设置\n",
    "        self.w_h = nn.Parameter(torch.rand(input_size, hidden_size))\n",
    "        self.u_h = nn.Parameter(torch.rand(hidden_size, hidden_size))\n",
    "        self.b_h = nn.Parameter(torch.zeros(hidden_size))\n",
    "        \n",
    "        self.w_y = nn.Parameter(torch.rand(hidden_size, output_size))\n",
    "        self.b_y = nn.Parameter(torch.zeros(output_size))\n",
    "        \n",
    "        # 准备激活函数。Dropout函数可选。\n",
    "        self.tanh = nn.Tanh()\n",
    "        self.leaky_relu = nn.LeakyReLU()\n",
    "        \n",
    "        # 可选：使用性能更好的参数初始化函数\n",
    "        for param in self.parameters():\n",
    "            if param.dim() > 1:\n",
    "                nn.init.xavier_uniform_(param)\n",
    "                \n",
    "    def forward(self, x):\n",
    "\n",
    "        batch_size = x.size(0)\n",
    "        seq_len = x.size(1)\n",
    "        \n",
    "        # 初始化隐藏状态，一般设为全0。由于是内部新建的变量，需要同步设备位置。\n",
    "        h = torch.zeros(batch_size, self.hidden_size).to(x.device)\n",
    "        # RNN实际上只能一步一步处理序列。因此需要用循环迭代。\n",
    "        y_list = []\n",
    "        for i in range(seq_len):\n",
    "            h = self.tanh(torch.matmul(x[:, i, :], self.w_h) + \n",
    "                             torch.matmul(h, self.u_h) + self.b_h)  # (batch_size, hidden_size)\n",
    "            y = self.leaky_relu(torch.matmul(h, self.w_y) + self.b_y)  # (batch_size, output_size)\n",
    "            y_list.append(y)\n",
    "        # 一般来说，RNN的返回值为最后一步的隐藏状态，以及每一步的输出状态。\n",
    "        return torch.stack(y_list, dim=1), h"
   ]
  },
  {
   "cell_type": "code",
   "execution_count": null,
   "id": "90a87370",
   "metadata": {},
   "outputs": [],
   "source": [
    "# 读取数据\n",
    "TrafficData = TrafficDataset()\n",
    "train_set, val_set, test_set = TrafficData.construct_set()\n",
    "batch_size = 256\n",
    "train_loader = data.DataLoader(train_set, batch_size=batch_size, shuffle=True, num_workers=0, drop_last=True)\n",
    "val_loader = data.DataLoader(val_set, batch_size=batch_size, shuffle=False, num_workers=0, drop_last=True)\n",
    "test_loader = data.DataLoader(test_set, batch_size=batch_size, shuffle=False, num_workers=0, drop_last=True)\n",
    "input_size = train_set.X.shape[-1]\n",
    "hidden_size = 6\n",
    "output_size = 1\n",
    "seq_len = 12\n",
    "lr = 0.0001\n",
    "epochs = 30\n",
    "loss_func = nn.MSELoss()\n",
    "my_rnn = MyRNN(input_size, hidden_size, output_size).to(device)\n",
    "optimizer = torch.optim.Adam(my_rnn.parameters(), lr)"
   ]
  },
  {
   "cell_type": "code",
   "execution_count": null,
   "id": "99ca8472",
   "metadata": {},
   "outputs": [],
   "source": [
    "from sklearn.metrics import mean_squared_error as mse, mean_absolute_error as mae\n",
    "def mape(y_true, y_pred):\n",
    "    y_true, y_pred = np.array(y_true), np.array(y_pred)\n",
    "    non_zero_index = (y_true > 0)\n",
    "    y_true = y_true[non_zero_index]\n",
    "    y_pred = y_pred[non_zero_index]\n",
    "\n",
    "    mape = np.abs((y_true - y_pred) / y_true)\n",
    "    mape[np.isinf(mape)] = 0\n",
    "    return np.mean(mape) * 100"
   ]
  },
  {
   "cell_type": "code",
   "execution_count": null,
   "id": "7e72ced3",
   "metadata": {},
   "outputs": [],
   "source": [
    "from utils import *\n",
    "train_loss_lst, val_loss_lst, train_score_lst, val_score_lst, stop_epoch = train(my_rnn, train_loader, val_loader, test_loader,\n",
    "                                                       loss_func, TrafficData.denormalize, optimizer, epochs,\n",
    "                                                       early_stop=10, device=device, output_model=None)"
   ]
  },
  {
   "cell_type": "code",
   "execution_count": null,
   "id": "26c749df",
   "metadata": {},
   "outputs": [],
   "source": [
    "visualize(stop_epoch, train_loss_lst, val_loss_lst, y_label='Loss')\n",
    "plot_metric(train_score_lst)"
   ]
  },
  {
   "cell_type": "code",
   "execution_count": null,
   "id": "1cc0319c",
   "metadata": {},
   "outputs": [],
   "source": [
    "# 超参数对比\n",
    "hidden_size = 16 # 对比hidden_size\n",
    "my_rnn = MyRNN(input_size, hidden_size, output_size).to(device)\n",
    "optimizer = torch.optim.Adam(my_rnn.parameters(), lr)\n",
    "train_loss_lst, val_loss_lst, train_score_lst, val_score_lst, stop_epoch = train(my_rnn, train_loader, val_loader, test_loader,\n",
    "                                                       loss_func, TrafficData.denormalize, optimizer, epochs,\n",
    "                                                       early_stop=10, device=device, output_model=None)\n",
    "lr = 0.001 # 对比lr\n",
    "hidden_size = 6 \n",
    "my_rnn = MyRNN(input_size, hidden_size, output_size).to(device)\n",
    "optimizer = torch.optim.Adam(my_rnn.parameters(), lr)\n",
    "train_loss_lst, val_loss_lst, train_score_lst, val_score_lst, stop_epoch = train(my_rnn, train_loader, val_loader, test_loader,\n",
    "                                                       loss_func, TrafficData.denormalize, optimizer, epochs,\n",
    "                                                       early_stop=10, device=device, output_model=None)"
   ]
  },
  {
   "cell_type": "code",
   "execution_count": null,
   "id": "433ba0e9",
   "metadata": {},
   "outputs": [],
   "source": [
    "from utils import *\n",
    "\n",
    "device = torch.device(\"cuda\" if torch.cuda.is_available() else \"cpu\")\n",
    "input_size = train_set.X.shape[-1]\n",
    "hidden_size = 6\n",
    "output_size = 1\n",
    "seq_len = 12\n",
    "lr = 0.0001\n",
    "epochs = 30\n",
    "loss_func = nn.MSELoss()\n",
    "\n",
    "nn_rnn = nn.RNN(input_size=input_size, hidden_size=hidden_size, num_layers=1, batch_first=True).to(device)\n",
    "out_linear = nn.Sequential(nn.Linear(hidden_size, 1), nn.LeakyReLU()).to(device)\n",
    "\n",
    "optimizer = torch.optim.Adam(list(nn_rnn.parameters()) + list(out_linear.parameters()), lr)\n",
    "\n",
    "train_loss_lst, val_loss_lst, train_score_lst, val_score_lst, stop_epoch = train(nn_rnn, train_loader, val_loader, test_loader,\n",
    "                                                       loss_func, TrafficData.denormalize, optimizer, epochs,\n",
    "                                                       early_stop=10, device=device, output_model=out_linear)"
   ]
  },
  {
   "cell_type": "code",
   "execution_count": null,
   "id": "36fb8489",
   "metadata": {},
   "outputs": [],
   "source": [
    "visualize(stop_epoch, train_loss_lst, val_loss_lst, y_label='Loss')\n",
    "plot_metric(train_score_lst)"
   ]
  },
  {
   "cell_type": "code",
   "execution_count": null,
   "id": "f3d42ce0",
   "metadata": {},
   "outputs": [],
   "source": [
    "# 超参数对比\n",
    "hidden_size = 16 # 对比hidden_size\n",
    "nn_rnn = nn.RNN(input_size=input_size, hidden_size=hidden_size, num_layers=1, batch_first=True).to(device)\n",
    "out_linear = nn.Sequential(nn.Linear(hidden_size, 1), nn.LeakyReLU()).to(device)\n",
    "optimizer = torch.optim.Adam(list(nn_rnn.parameters()) + list(out_linear.parameters()), lr)\n",
    "train_loss_lst, val_loss_lst, train_score_lst, val_score_lst, stop_epoch = train(nn_rnn, train_loader, val_loader, test_loader,\n",
    "                                                       loss_func, TrafficData.denormalize, optimizer, epochs,\n",
    "                                                       early_stop=10, device=device, output_model=out_linear)\n",
    "hidden_size = 6\n",
    "lr = 0.001 #对比lr\n",
    "nn_rnn = nn.RNN(input_size=input_size, hidden_size=hidden_size, num_layers=1, batch_first=True).to(device)\n",
    "out_linear = nn.Sequential(nn.Linear(hidden_size, 1), nn.LeakyReLU()).to(device)\n",
    "optimizer = torch.optim.Adam(list(nn_rnn.parameters()) + list(out_linear.parameters()), lr)\n",
    "train_loss_lst, val_loss_lst, train_score_lst, val_score_lst, stop_epoch = train(nn_rnn, train_loader, val_loader, test_loader,\n",
    "                                                       loss_func, TrafficData.denormalize, optimizer, epochs,\n",
    "                                                       early_stop=10, device=device, output_model=out_linear)"
   ]
  },
  {
   "cell_type": "code",
   "execution_count": null,
   "id": "dce52d3b",
   "metadata": {},
   "outputs": [],
   "source": []
  }
 ],
 "metadata": {
  "kernelspec": {
   "display_name": "Python 3 (ipykernel)",
   "language": "python",
   "name": "python3"
  },
  "language_info": {
   "codemirror_mode": {
    "name": "ipython",
    "version": 3
   },
   "file_extension": ".py",
   "mimetype": "text/x-python",
   "name": "python",
   "nbconvert_exporter": "python",
   "pygments_lexer": "ipython3",
   "version": "3.9.13"
  }
 },
 "nbformat": 4,
 "nbformat_minor": 5
}
