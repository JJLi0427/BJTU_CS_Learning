{
 "cells": [
  {
   "cell_type": "code",
   "execution_count": null,
   "id": "27a73b95",
   "metadata": {},
   "outputs": [],
   "source": [
    "import math\n",
    "import torch\n",
    "from torch import nn\n",
    "import numpy as np\n",
    "from datasets import *\n",
    "device = torch.device(\"cuda:0\" if torch.cuda.is_available() else \"cpu\")\n",
    "# 启用CUDA加速"
   ]
  },
  {
   "cell_type": "code",
   "execution_count": null,
   "id": "7cd2a18b",
   "metadata": {},
   "outputs": [],
   "source": [
    "class My_GRU(nn.Module):\n",
    "    def __init__(self, input_size, hidden_size, output_size):\n",
    "        super().__init__()\n",
    "        self.hidden_size = hidden_size\n",
    "        \n",
    "        self.gates = nn.Linear(input_size+hidden_size, hidden_size*2)\n",
    "        # 用于计算candidate hidden state\n",
    "        self.hidden_transform = nn.Linear(input_size+hidden_size, hidden_size)\n",
    "        \n",
    "        self.sigmoid = nn.Sigmoid()\n",
    "        self.tanh = nn.Tanh()\n",
    "        \n",
    "        self.output = nn.Sequential(\n",
    "            nn.Linear(hidden_size, hidden_size // 2),\n",
    "            nn.ReLU(),\n",
    "            nn.Linear(hidden_size // 2, output_size)\n",
    "        )\n",
    "            \n",
    "        for param in self.parameters():\n",
    "            if param.dim() > 1:\n",
    "                nn.init.xavier_uniform_(param)\n",
    "                \n",
    "    def forward(self, x):\n",
    "        batch_size = x.size(0)\n",
    "        seq_len = x.size(1)\n",
    "        \n",
    "        h = torch.zeros(batch_size, self.hidden_size).to(x.device)\n",
    "        y_list = []\n",
    "        for i in range(seq_len):\n",
    "            update_gate, reset_gate = self.gates(torch.cat([x[:, i, :], h], dim=-1)).chunk(2, -1)\n",
    "            update_gate, reset_gate = (self.sigmoid(gate) for gate in (update_gate, reset_gate))\n",
    "            candidate_hidden = self.tanh(self.hidden_transform(torch.cat([x[:, i, :], reset_gate * h], dim=-1)))\n",
    "            h = (1-update_gate) * h + update_gate * candidate_hidden\n",
    "            y_list.append(self.output(h))\n",
    "        return torch.stack(y_list, dim=1), h"
   ]
  },
  {
   "cell_type": "code",
   "execution_count": null,
   "id": "977ce4c6",
   "metadata": {},
   "outputs": [],
   "source": [
    "# 读取数据\n",
    "TrafficData = TrafficDataset()\n",
    "train_set, val_set, test_set = TrafficData.construct_set()\n",
    "batch_size = 256\n",
    "train_loader = data.DataLoader(train_set, batch_size=batch_size, shuffle=True, num_workers=0, drop_last=True)\n",
    "val_loader = data.DataLoader(val_set, batch_size=batch_size, shuffle=False, num_workers=0, drop_last=True)\n",
    "test_loader = data.DataLoader(test_set, batch_size=batch_size, shuffle=False, num_workers=0, drop_last=True)\n",
    "input_size = train_set.X.shape[-1]\n",
    "hidden_size = 6\n",
    "output_size = 1\n",
    "seq_len = 12\n",
    "lr = 0.0001\n",
    "epochs = 30\n",
    "loss_func = nn.MSELoss()\n",
    "my_gru = My_GRU(input_size, hidden_size, output_size).to(device)\n",
    "optimizer = torch.optim.Adam(my_gru.parameters(), lr)"
   ]
  },
  {
   "cell_type": "code",
   "execution_count": null,
   "id": "aa02ad56",
   "metadata": {},
   "outputs": [],
   "source": [
    "from sklearn.metrics import mean_squared_error as mse, mean_absolute_error as mae\n",
    "def mape(y_true, y_pred):\n",
    "    y_true, y_pred = np.array(y_true), np.array(y_pred)\n",
    "    non_zero_index = (y_true > 0)\n",
    "    y_true = y_true[non_zero_index]\n",
    "    y_pred = y_pred[non_zero_index]\n",
    "\n",
    "    mape = np.abs((y_true - y_pred) / y_true)\n",
    "    mape[np.isinf(mape)] = 0\n",
    "    return np.mean(mape) * 100"
   ]
  },
  {
   "cell_type": "code",
   "execution_count": null,
   "id": "f9fb33b2",
   "metadata": {},
   "outputs": [],
   "source": [
    "from utils import *\n",
    "train_loss_lst, val_loss_lst, train_score_lst, val_score_lst, stop_epoch = train(my_gru, train_loader, val_loader, test_loader,\n",
    "                                                       loss_func, TrafficData.denormalize, optimizer, epochs,\n",
    "                                                       early_stop=10, device=device, output_model=None)"
   ]
  },
  {
   "cell_type": "code",
   "execution_count": null,
   "id": "9d287b92",
   "metadata": {},
   "outputs": [],
   "source": [
    "visualize(stop_epoch, train_loss_lst, val_loss_lst, y_label='Loss')\n",
    "plot_metric(train_score_lst)"
   ]
  },
  {
   "cell_type": "code",
   "execution_count": null,
   "id": "976e64a4",
   "metadata": {},
   "outputs": [],
   "source": [
    "# 超参数对比\n",
    "hidden_size = 16 # 对比hidden_size\n",
    "my_gru = My_GRU(input_size, hidden_size, output_size).to(device)\n",
    "optimizer = torch.optim.Adam(my_gru.parameters(), lr)\n",
    "train_loss_lst, val_loss_lst, train_score_lst, val_score_lst, stop_epoch = train(my_gru, train_loader, val_loader, test_loader,\n",
    "                                                       loss_func, TrafficData.denormalize, optimizer, epochs,\n",
    "                                                       early_stop=10, device=device, output_model=None)\n",
    "lr = 0.001 # 对比lr\n",
    "hidden_size = 6 \n",
    "my_gru = My_GRU(input_size, hidden_size, output_size).to(device)\n",
    "optimizer = torch.optim.Adam(my_gru.parameters(), lr)\n",
    "train_loss_lst, val_loss_lst, train_score_lst, val_score_lst, stop_epoch = train(my_gru, train_loader, val_loader, test_loader,\n",
    "                                                       loss_func, TrafficData.denormalize, optimizer, epochs,\n",
    "                                                       early_stop=10, device=device, output_model=None)"
   ]
  },
  {
   "cell_type": "code",
   "execution_count": null,
   "id": "5f00a4d3",
   "metadata": {},
   "outputs": [],
   "source": [
    "from utils import *\n",
    "\n",
    "device = torch.device(\"cuda\" if torch.cuda.is_available() else \"cpu\")\n",
    "input_size = train_set.X.shape[-1]\n",
    "hidden_size = 6\n",
    "output_size = 1\n",
    "seq_len = 12\n",
    "lr = 0.0001\n",
    "epochs = 30\n",
    "loss_func = nn.MSELoss()\n",
    "\n",
    "nn_gru = nn.GRU(input_size=input_size, hidden_size=hidden_size, num_layers=1, batch_first=True).to(device)\n",
    "out_linear = nn.Sequential(nn.Linear(hidden_size, 1), nn.LeakyReLU()).to(device)\n",
    "\n",
    "optimizer = torch.optim.Adam(list(nn_gru.parameters()) + list(out_linear.parameters()), lr)\n",
    "\n",
    "train_loss_lst, val_loss_lst, train_score_lst, val_score_lst, stop_epoch = train(nn_gru, train_loader, val_loader, test_loader,\n",
    "                                                       loss_func, TrafficData.denormalize, optimizer, epochs,\n",
    "                                                       early_stop=10, device=device, output_model=out_linear)"
   ]
  },
  {
   "cell_type": "code",
   "execution_count": null,
   "id": "25bec9b0",
   "metadata": {},
   "outputs": [],
   "source": [
    "visualize(stop_epoch, train_loss_lst, val_loss_lst, y_label='Loss')\n",
    "plot_metric(train_score_lst)"
   ]
  },
  {
   "cell_type": "code",
   "execution_count": null,
   "id": "52bf849b",
   "metadata": {},
   "outputs": [],
   "source": [
    "# 超参数对比\n",
    "hidden_size = 16 # 对比hidden_size\n",
    "nn_gru = nn.GRU(input_size=input_size, hidden_size=hidden_size, num_layers=1, batch_first=True).to(device)\n",
    "out_linear = nn.Sequential(nn.Linear(hidden_size, 1), nn.LeakyReLU()).to(device)\n",
    "optimizer = torch.optim.Adam(list(nn_gru.parameters()) + list(out_linear.parameters()), lr)\n",
    "train_loss_lst, val_loss_lst, train_score_lst, val_score_lst, stop_epoch = train(nn_gru, train_loader, val_loader, test_loader,\n",
    "                                                       loss_func, TrafficData.denormalize, optimizer, epochs,\n",
    "                                                       early_stop=10, device=device, output_model=out_linear)\n",
    "hidden_size = 6\n",
    "lr = 0.001 #对比lr\n",
    "nn_gru = nn.GRU(input_size=input_size, hidden_size=hidden_size, num_layers=1, batch_first=True).to(device)\n",
    "optimizer = torch.optim.Adam(list(nn_gru.parameters()) + list(out_linear.parameters()), lr)\n",
    "out_linear = nn.Sequential(nn.Linear(hidden_size, 1), nn.LeakyReLU()).to(device)\n",
    "train_loss_lst, val_loss_lst, train_score_lst, val_score_lst, stop_epoch = train(nn_gru, train_loader, val_loader, test_loader,\n",
    "                                                       loss_func, TrafficData.denormalize, optimizer, epochs,\n",
    "                                                       early_stop=10, device=device, output_model=out_linear)"
   ]
  }
 ],
 "metadata": {
  "kernelspec": {
   "display_name": "Python 3 (ipykernel)",
   "language": "python",
   "name": "python3"
  },
  "language_info": {
   "codemirror_mode": {
    "name": "ipython",
    "version": 3
   },
   "file_extension": ".py",
   "mimetype": "text/x-python",
   "name": "python",
   "nbconvert_exporter": "python",
   "pygments_lexer": "ipython3",
   "version": "3.9.13"
  }
 },
 "nbformat": 4,
 "nbformat_minor": 5
}
