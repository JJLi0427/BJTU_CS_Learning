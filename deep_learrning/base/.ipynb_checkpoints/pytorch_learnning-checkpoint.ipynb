{
 "cells": [
  {
   "cell_type": "code",
   "execution_count": null,
   "id": "4d7a6d9c",
   "metadata": {},
   "outputs": [],
   "source": [
    "# 1.三种矩阵减法操作\n",
    "import torch\n",
    "\n",
    "M = torch.tensor([[1, 2, 3]], dtype=torch.float32)\n",
    "N = torch.tensor([[4], [5]], dtype=torch.float32)\n",
    "\n",
    "# torch.sub\n",
    "result_1 = torch.sub(M, N)\n",
    "# only use -\n",
    "result_2 = M - N\n",
    "# torch.subtract\n",
    "result_3 = torch.subtract(M, N)\n",
    "\n",
    "print(\"torch.sub: \", result_1)\n",
    "print(\"only use -: \", result_2)\n",
    "print(\"torch.subtrac: \", result_3)"
   ]
  },
  {
   "cell_type": "code",
   "execution_count": null,
   "id": "a92fe846",
   "metadata": {},
   "outputs": [],
   "source": [
    "# 2.矩阵转置后相乘\n",
    "import torch\n",
    "\n",
    "# 创建随机数矩阵 P 和 Q，服从均值为0，标准差为0.01的正态分布\n",
    "P = torch.randn(3, 2) * 0.01\n",
    "Q = torch.randn(4, 2) * 0.01\n",
    "# 矩阵Q转置\n",
    "QT = torch.transpose(Q, 0, 1)\n",
    "# 矩阵相乘\n",
    "result = torch.mm(P, QT)\n",
    "\n",
    "print(\"result: \", result)"
   ]
  },
  {
   "cell_type": "code",
   "execution_count": null,
   "id": "4678ca4e",
   "metadata": {},
   "outputs": [],
   "source": [
    "# 3.梯度计算\n",
    "import torch\n",
    "\n",
    "def y3(x):\n",
    "    return x**2 + x**3\n",
    "\n",
    "x = torch.tensor(1.0, requires_grad=True)\n",
    "\n",
    "with torch.no_grad():\n",
    "    y2 = x**3\n",
    "y1 = x**2\n",
    "y3_val = y1 + y2\n",
    "\n",
    "# 计算梯度\n",
    "y3_val.backward()\n",
    "\n",
    "print(\"dy3/dx: \", x.grad)"
   ]
  },
  {
   "cell_type": "code",
   "execution_count": null,
   "id": "fff4ed50",
   "metadata": {},
   "outputs": [],
   "source": []
  }
 ],
 "metadata": {
  "kernelspec": {
   "display_name": "Python 3 (ipykernel)",
   "language": "python",
   "name": "python3"
  },
  "language_info": {
   "codemirror_mode": {
    "name": "ipython",
    "version": 3
   },
   "file_extension": ".py",
   "mimetype": "text/x-python",
   "name": "python",
   "nbconvert_exporter": "python",
   "pygments_lexer": "ipython3",
   "version": "3.9.13"
  }
 },
 "nbformat": 4,
 "nbformat_minor": 5
}
