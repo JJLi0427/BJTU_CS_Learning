{
 "cells": [
  {
   "cell_type": "code",
   "execution_count": 1,
   "id": "da8e30aa",
   "metadata": {},
   "outputs": [],
   "source": [
    "import torch\n",
    "import torch.nn as nn\n",
    "import numpy as np\n",
    "import torchvision\n",
    "from torchvision import transforms\n",
    "import time\n",
    "from torch.utils.data import TensorDataset, DataLoader"
   ]
  },
  {
   "cell_type": "code",
   "execution_count": 2,
   "id": "3a770d71",
   "metadata": {},
   "outputs": [],
   "source": [
    "# 绘图函数\n",
    "import matplotlib.pyplot as plt\n",
    "def draw_loss(train_loss, test_acc):\n",
    "    x = range(len(train_loss))\n",
    "    # 创建一个1行2列的图像布局\n",
    "    plt.figure(figsize=(10, 5))\n",
    "    # 在第一个子图中绘制训练损失\n",
    "    plt.subplot(1, 2, 1)\n",
    "    plt.plot(x, train_loss, label=\"Train Loss\")\n",
    "    plt.xlabel(\"Epoch\")\n",
    "    plt.ylabel(\"Loss\")\n",
    "    plt.legend()\n",
    "    # 在第二个子图中绘制测试精度\n",
    "    plt.subplot(1, 2, 2)\n",
    "    plt.plot(x, test_acc, color='r', label=\"Test Acc\")\n",
    "    plt.xlabel(\"Epoch\")\n",
    "    plt.ylabel(\"Accuracy\")\n",
    "    plt.legend()\n",
    "    plt.tight_layout()\n",
    "    plt.show()"
   ]
  },
  {
   "cell_type": "code",
   "execution_count": 3,
   "id": "3a1656b6",
   "metadata": {},
   "outputs": [],
   "source": [
    "from torch.utils.data.dataset import random_split\n",
    "batch_size = 128\n",
    "# minist数据集\n",
    "mnist_train = torchvision.datasets.MNIST(root='~/Datasets/MNIST',train=True, download=True, transform=transforms.ToTensor())\n",
    "# 划分训练集和验证集\n",
    "train_size = int(0.8 * len(mnist_train))\n",
    "val_size = len(mnist_train) - train_size\n",
    "train_dataset, val_dataset = random_split(mnist_train, [train_size, val_size])\n",
    "# 创建DataLoader\n",
    "train_iter = DataLoader(train_dataset, batch_size=batch_size, shuffle=True,num_workers=0)\n",
    "val_iter = DataLoader(val_dataset, batch_size=batch_size, shuffle=False,num_workers=0)\n",
    "mnist_test = torchvision.datasets.MNIST(root='~/Datasets/MNIST',train=False, transform=transforms.ToTensor())\n",
    "# 通过DataLoader 读取小批量数据样本\n",
    "train_iter = DataLoader(mnist_train, batch_size=batch_size, shuffle=True,num_workers=0)\n",
    "test_iter = DataLoader(mnist_test, batch_size=batch_size, shuffle=False,num_workers=0)"
   ]
  },
  {
   "cell_type": "code",
   "execution_count": 4,
   "id": "be66682f",
   "metadata": {},
   "outputs": [],
   "source": [
    "# torch.nn.Dropout层实现dropout\n",
    "class FlattenLayer(torch.nn.Module):\n",
    "    def __init__(self):\n",
    "        super(FlattenLayer, self).__init__()\n",
    "    def forward(self, x):\n",
    "        return x.view(x.shape[0], -1)"
   ]
  },
  {
   "cell_type": "code",
   "execution_count": 5,
   "id": "8871b7f7",
   "metadata": {},
   "outputs": [],
   "source": [
    "# 准确率计算函数\n",
    "def evaluate_accuracy(data_iter, net):\n",
    "    acc_sum, n = 0.0, 0\n",
    "    for X, y in data_iter:\n",
    "        if isinstance(net,torch.nn.Module):\n",
    "            net.eval() \n",
    "            #评估模式，不使用dropout\n",
    "            acc_sum += (net (X).argmax (dim=1) == y).float ().sum().item()\n",
    "            net.train()\n",
    "            # 改回训练模式\n",
    "        n += y.shape[0]\n",
    "    return acc_sum / n"
   ]
  },
  {
   "cell_type": "code",
   "execution_count": 6,
   "id": "b8a6247b",
   "metadata": {},
   "outputs": [],
   "source": [
    "def train(net, train_iter, val_iter, loss_func, epochs, optimizer):\n",
    "    train_loss_list = []\n",
    "    val_acc_list = []\n",
    "    best_val_acc = 0.0\n",
    "    stop_rounds = 0\n",
    "    time_start = time.time()\n",
    "    for epoch in range(epochs):\n",
    "        train_l_sum, train_acc_sum, n, c = 0.0,0.0, 0,0\n",
    "        for X,y in train_iter:\n",
    "            y_hat = net.forward(X)\n",
    "            l = loss_func(y_hat,y)\n",
    "            optimizer.zero_grad()\n",
    "            l.backward()\n",
    "            optimizer.step()\n",
    "            train_l_sum += l.item()\n",
    "            train_acc_sum += (y_hat.argmax(dim=1) == y).sum().item()\n",
    "            n += y.shape[0]\n",
    "            c += 1\n",
    "        val_acc = evaluate_accuracy(val_iter, net)\n",
    "        train_loss_list.append(train_l_sum / c)\n",
    "        val_acc_list.append(val_acc)\n",
    "        print('epoch %d, train loss %.4f, train acc %.3f, val acc %.3f' % (epoch + 1,train_l_sum / c, train_acc_sum / n, val_acc))\n",
    "        # 早停机制\n",
    "        if val_acc > best_val_acc:\n",
    "            best_val_acc = val_acc\n",
    "            stop_rounds = 0\n",
    "        else:\n",
    "            stop_rounds += 1\n",
    "        if stop_rounds >= 5:\n",
    "            print(\"Early stopping!\")\n",
    "            break\n",
    "    print(\"time spend: %.6f second\" % (time.time() - time_start))\n",
    "    draw_loss(train_loss_list, val_acc_list)"
   ]
  },
  {
   "cell_type": "code",
   "execution_count": 7,
   "id": "e3ba0798",
   "metadata": {},
   "outputs": [],
   "source": [
    "# 神经网络模型\n",
    "def Net(drop_prob): # 根据dropout的值来初始化\n",
    "    drop_prob = 0.2\n",
    "    net_pytorch = nn.Sequential(\n",
    "        FlattenLayer(),\n",
    "        nn.Linear(num_inputs, num_hiddens1),\n",
    "        nn.ReLU(),\n",
    "        nn.Dropout(drop_prob),\n",
    "        nn.Linear(num_hiddens1, num_hiddens2),\n",
    "        nn.ReLU(),\n",
    "        nn.Dropout(drop_prob),\n",
    "        nn.Linear(num_hiddens2, 10)\n",
    "    )\n",
    "    for param in net_pytorch.parameters():\n",
    "        nn.init.normal_(param, mean=0, std=0.01)\n",
    "    return net_pytorch"
   ]
  },
  {
   "cell_type": "code",
   "execution_count": 8,
   "id": "6020b856",
   "metadata": {},
   "outputs": [],
   "source": [
    "epochs = 50\n",
    "lr = 0.5\n",
    "loss = nn.CrossEntropyLoss()"
   ]
  },
  {
   "cell_type": "code",
   "execution_count": 9,
   "id": "766815ac",
   "metadata": {},
   "outputs": [],
   "source": [
    "num_inputs = 784\n",
    "num_hiddens1 = 256\n",
    "num_hiddens2 = 256"
   ]
  },
  {
   "cell_type": "code",
   "execution_count": 10,
   "id": "1986ceb1",
   "metadata": {},
   "outputs": [
    {
     "name": "stdout",
     "output_type": "stream",
     "text": [
      "epoch 1, train loss 0.6297, train acc 0.790, val acc 0.950\n",
      "epoch 2, train loss 0.1582, train acc 0.952, val acc 0.974\n",
      "epoch 3, train loss 0.1146, train acc 0.964, val acc 0.980\n",
      "epoch 4, train loss 0.0887, train acc 0.973, val acc 0.982\n",
      "epoch 5, train loss 0.0754, train acc 0.977, val acc 0.989\n",
      "epoch 6, train loss 0.0668, train acc 0.979, val acc 0.984\n",
      "epoch 7, train loss 0.0586, train acc 0.982, val acc 0.992\n",
      "epoch 8, train loss 0.0503, train acc 0.984, val acc 0.992\n",
      "epoch 9, train loss 0.0457, train acc 0.985, val acc 0.994\n",
      "epoch 10, train loss 0.0406, train acc 0.987, val acc 0.993\n",
      "epoch 11, train loss 0.0370, train acc 0.988, val acc 0.994\n",
      "epoch 12, train loss 0.0339, train acc 0.989, val acc 0.996\n",
      "epoch 13, train loss 0.0309, train acc 0.990, val acc 0.996\n",
      "epoch 14, train loss 0.0301, train acc 0.990, val acc 0.997\n",
      "epoch 15, train loss 0.0285, train acc 0.990, val acc 0.996\n",
      "epoch 16, train loss 0.0260, train acc 0.992, val acc 0.997\n",
      "epoch 17, train loss 0.0234, train acc 0.992, val acc 0.996\n",
      "epoch 18, train loss 0.0237, train acc 0.992, val acc 0.996\n",
      "epoch 19, train loss 0.0203, train acc 0.993, val acc 0.999\n",
      "epoch 20, train loss 0.0193, train acc 0.994, val acc 0.999\n",
      "epoch 21, train loss 0.0191, train acc 0.993, val acc 0.999\n",
      "epoch 22, train loss 0.0189, train acc 0.993, val acc 0.998\n",
      "epoch 23, train loss 0.0170, train acc 0.994, val acc 0.999\n",
      "epoch 24, train loss 0.0164, train acc 0.995, val acc 0.999\n",
      "epoch 25, train loss 0.0146, train acc 0.995, val acc 1.000\n",
      "epoch 26, train loss 0.0153, train acc 0.995, val acc 0.999\n",
      "epoch 27, train loss 0.0165, train acc 0.994, val acc 0.999\n",
      "epoch 28, train loss 0.0152, train acc 0.995, val acc 0.999\n",
      "epoch 29, train loss 0.0146, train acc 0.995, val acc 0.997\n",
      "epoch 30, train loss 0.0123, train acc 0.996, val acc 0.999\n",
      "Early stopping!\n",
      "time spend: 295.231755 second\n"
     ]
    },
    {
     "data": {
      "image/png": "[encoded data removed]",
      "text/plain": [
       "<Figure size 1000x500 with 2 Axes>"
      ]
     },
     "metadata": {},
     "output_type": "display_data"
    }
   ],
   "source": [
    "net = Net(0.2) # dropout为0.2\n",
    "optimizer = torch.optim.SGD(net.parameters(), lr)\n",
    "train(net, train_iter, val_iter, loss, epochs, optimizer)"
   ]
  },
  {
   "cell_type": "code",
   "execution_count": 11,
   "id": "05e4985f",
   "metadata": {},
   "outputs": [
    {
     "name": "stdout",
     "output_type": "stream",
     "text": [
      "test acc 0.983\n"
     ]
    }
   ],
   "source": [
    "test_acc = evaluate_accuracy(test_iter, net)\n",
    "print('test acc %.3f' % (test_acc))"
   ]
  }
 ],
 "metadata": {
  "kernelspec": {
   "display_name": "Python 3 (ipykernel)",
   "language": "python",
   "name": "python3"
  },
  "language_info": {
   "codemirror_mode": {
    "name": "ipython",
    "version": 3
   },
   "file_extension": ".py",
   "mimetype": "text/x-python",
   "name": "python",
   "nbconvert_exporter": "python",
   "pygments_lexer": "ipython3",
   "version": "3.9.13"
  }
 },
 "nbformat": 4,
 "nbformat_minor": 5
}
