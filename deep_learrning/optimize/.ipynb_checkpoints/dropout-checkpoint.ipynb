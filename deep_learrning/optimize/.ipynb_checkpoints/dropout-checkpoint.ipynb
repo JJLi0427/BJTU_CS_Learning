{
 "cells": [
  {
   "cell_type": "code",
   "execution_count": null,
   "id": "5592959e",
   "metadata": {},
   "outputs": [],
   "source": [
    "import torch\n",
    "import torch.nn as nn\n",
    "import numpy as np\n",
    "import torchvision\n",
    "from torchvision import transforms\n",
    "import time\n",
    "from torch.utils.data import TensorDataset, DataLoader"
   ]
  },
  {
   "cell_type": "code",
   "execution_count": null,
   "id": "91d99778",
   "metadata": {},
   "outputs": [],
   "source": [
    "# 绘图函数\n",
    "import matplotlib.pyplot as plt\n",
    "def draw_loss(train_loss, test_acc):\n",
    "    x = range(len(train_loss))\n",
    "    # 创建一个1行2列的图像布局\n",
    "    plt.figure(figsize=(10, 5))\n",
    "    # 在第一个子图中绘制训练损失\n",
    "    plt.subplot(1, 2, 1)\n",
    "    plt.plot(x, train_loss, label=\"Train Loss\")\n",
    "    plt.xlabel(\"Epoch\")\n",
    "    plt.ylabel(\"Loss\")\n",
    "    plt.legend()\n",
    "    # 在第二个子图中绘制测试精度\n",
    "    plt.subplot(1, 2, 2)\n",
    "    plt.plot(x, test_acc, color='r', label=\"Test Acc\")\n",
    "    plt.xlabel(\"Epoch\")\n",
    "    plt.ylabel(\"Accuracy\")\n",
    "    plt.legend()\n",
    "    plt.tight_layout()\n",
    "    plt.show()"
   ]
  },
  {
   "cell_type": "code",
   "execution_count": null,
   "id": "f2ea4051",
   "metadata": {},
   "outputs": [],
   "source": [
    "# minist数据集\n",
    "mnist_train = torchvision.datasets.MNIST(root='~/Datasets/MNIST',train=True, download=True, transform=transforms.ToTensor())\n",
    "mnist_test = torchvision.datasets.MNIST(root='~/Datasets/MNIST',train=False, transform=transforms.ToTensor())\n",
    "# 通过DataLoader 读取小批量数据样本\n",
    "batch_size = 128\n",
    "train_iter = DataLoader(mnist_train, batch_size=batch_size, shuffle=True,num_workers=0)\n",
    "test_iter = DataLoader(mnist_test, batch_size=batch_size, shuffle=False,num_workers=0)"
   ]
  },
  {
   "cell_type": "code",
   "execution_count": null,
   "id": "5332f557",
   "metadata": {},
   "outputs": [],
   "source": [
    "class Net(nn.Module):\n",
    "    #网络定义\n",
    "    def __init__(self,dropout=0.0):\n",
    "        self.dropout = dropout\n",
    "        num_inputs, num_outputs, num_hiddens1, num_hiddens2 = 784, 10, 256, 256\n",
    "        W1 = torch.tensor(np.random.normal(0, 0.01, size=(num_hiddens1, num_inputs)), dtype=torch.float, requires_grad=True)\n",
    "        b1 = torch.zeros(num_hiddens1, requires_grad=True)\n",
    "        W2 = torch.tensor(np.random.normal(0, 0.01, size=(num_hiddens2, num_hiddens1)), dtype=torch.float, requires_grad=True)\n",
    "        b2 = torch.zeros(num_hiddens2, requires_grad=True)\n",
    "        W3 = torch.tensor(np.random.normal(0, 0.01, size=(num_outputs, num_hiddens2)), dtype=torch.float, requires_grad=True)\n",
    "        b3 = torch.zeros(num_outputs, requires_grad=True)\n",
    "        self.params = [W1, b1, W2, b2, W3, b3]\n",
    "        # 定义模型结构\n",
    "        self.input_layer = lambda x: x.view(x.shape[0], -1)\n",
    "        self.hidden_layer1 = lambda x: torch.matmul(x, W1.t()) + b1\n",
    "        self.hidden_layer2 = lambda x: torch.matmul(x, W2.t()) + b2\n",
    "        self.output_layer = lambda x: torch.matmul(x, W3.t()) + b3\n",
    "    \n",
    "    # 训练状态\n",
    "    def train(self):\n",
    "        self.is_train = True\n",
    "    def test(self):\n",
    "        self.is_train = False\n",
    "    \n",
    "    def dropout_layer(self, x):\n",
    "        dropout =self.dropout\n",
    "        assert 0 <= dropout <= 1 \n",
    "        #丢弃率在0-1之间\n",
    "        if dropout == 1:\n",
    "            return torch.zeros_like(x)\n",
    "        if dropout == 0:\n",
    "            return x\n",
    "        #生成mask矩阵(向量)\n",
    "        mask = (torch.rand(x.shape) < 1.0 - dropout).float()\n",
    "        return mask * x / (1.0 - dropout)\n",
    "    \n",
    "    def forward(self, x):\n",
    "        # 定义前向传播\n",
    "        x = self.input_layer(x)\n",
    "        if self.is_train:\n",
    "            x = self.dropout_layer(x) \n",
    "        x = nn.ReLU()(self.hidden_layer1(x))\n",
    "        if self.is_train:\n",
    "            x = self.dropout_layer(x) \n",
    "        x = nn.ReLU()(self.hidden_layer2(x))\n",
    "        if self.is_train:\n",
    "            x = self.dropout_layer(x)\n",
    "        x = self.output_layer(x)\n",
    "        return x"
   ]
  },
  {
   "cell_type": "code",
   "execution_count": null,
   "id": "3b3ab6cf",
   "metadata": {},
   "outputs": [],
   "source": [
    "# 测试准确率评价函数\n",
    "def evaluate_accuracy(data_iter, model):\n",
    "    acc_sum, n= 0.0, 0\n",
    "    for X, y in data_iter:\n",
    "        result = model.forward(X)\n",
    "        acc_sum += (result.argmax(dim=1) == y).float().sum().item()\n",
    "        n += y.shape[0]\n",
    "    return acc_sum / n"
   ]
  },
  {
   "cell_type": "code",
   "execution_count": null,
   "id": "807e982d",
   "metadata": {},
   "outputs": [],
   "source": [
    "# 训练函数\n",
    "def train(net, train_iter, loss_func, epochs, optimizer):\n",
    "    train_loss_list = []\n",
    "    test_acc_list = []\n",
    "    time_start = time.time()\n",
    "    for epoch in range(epochs):\n",
    "        train_l_sum, train_acc_sum, n, c = 0.0,0.0, 0,0\n",
    "        # 训练状态\n",
    "        net.train()\n",
    "        for X,y in train_iter:\n",
    "            y_hat = net.forward(X)\n",
    "            l = loss_func(y_hat,y)\n",
    "            optimizer.zero_grad()\n",
    "            l.backward()\n",
    "            optimizer.step()\n",
    "            train_l_sum += l.item()\n",
    "            train_acc_sum += (y_hat.argmax(dim=1) == y).sum().item()\n",
    "            n += y.shape[0]\n",
    "            c += 1\n",
    "        # 测试状态\n",
    "        net.test()\n",
    "        test_acc = evaluate_accuracy(test_iter, net)\n",
    "        train_loss_list.append(train_l_sum / c)\n",
    "        test_acc_list.append(test_acc)\n",
    "        print('epoch %d, train loss %.4f, train acc %.3f, test acc %.3f' % (epoch + 1, train_l_sum / c, train_acc_sum / n, test_acc))\n",
    "    print(\"time spend: %.6f second\" % (time.time() - time_start))\n",
    "    draw_loss(train_loss_list, test_acc_list)"
   ]
  },
  {
   "cell_type": "code",
   "execution_count": null,
   "id": "904d1a6d",
   "metadata": {},
   "outputs": [],
   "source": [
    "epochs = 20\n",
    "lr = 0.1\n",
    "loss = nn.CrossEntropyLoss()"
   ]
  },
  {
   "cell_type": "code",
   "execution_count": null,
   "id": "17d19df9",
   "metadata": {},
   "outputs": [],
   "source": [
    "net = Net() # 先使dropout为0\n",
    "optimizer = torch.optim.SGD(net.params, lr)\n",
    "train(net, train_iter, loss, epochs, optimizer)"
   ]
  },
  {
   "cell_type": "code",
   "execution_count": null,
   "id": "336d99ca",
   "metadata": {},
   "outputs": [],
   "source": [
    "net = Net(0.2) # dropout为0.2\n",
    "optimizer = torch.optim.SGD(net.params, lr)\n",
    "train(net, train_iter, loss, epochs, optimizer)"
   ]
  },
  {
   "cell_type": "code",
   "execution_count": null,
   "id": "6841b536",
   "metadata": {},
   "outputs": [],
   "source": [
    "net = Net(0.5) # dropout为0.5\n",
    "optimizer = torch.optim.SGD(net.params, lr)\n",
    "train(net, train_iter, loss, epochs, optimizer)"
   ]
  },
  {
   "cell_type": "code",
   "execution_count": null,
   "id": "21ffd743",
   "metadata": {},
   "outputs": [],
   "source": [
    "net = Net(0.8) # dropout为0.8\n",
    "optimizer = torch.optim.SGD(net.params, lr)\n",
    "train(net, train_iter, loss, epochs, optimizer)"
   ]
  },
  {
   "cell_type": "code",
   "execution_count": null,
   "id": "c8d4dcc4",
   "metadata": {},
   "outputs": [],
   "source": [
    "# torch.nn.Dropout层实现dropout\n",
    "class FlattenLayer(torch.nn.Module):\n",
    "    def __init__(self):\n",
    "        super(FlattenLayer, self).__init__()\n",
    "    def forward(self, x):\n",
    "        return x.view(x.shape[0], -1)"
   ]
  },
  {
   "cell_type": "code",
   "execution_count": null,
   "id": "d037643d",
   "metadata": {},
   "outputs": [],
   "source": [
    "# 准确率计算函数\n",
    "def evaluate_accuracy1(data_iter, net):\n",
    "    acc_sum, n = 0.0, 0\n",
    "    for X, y in data_iter:\n",
    "        if isinstance(net,torch.nn.Module):\n",
    "            net.eval() \n",
    "            #评估模式，不使用dropout\n",
    "            acc_sum += (net (X).argmax (dim=1) == y).float ().sum().item()\n",
    "            net.train()\n",
    "            # 改回训练模式\n",
    "        n += y.shape[0]\n",
    "    return acc_sum / n"
   ]
  },
  {
   "cell_type": "code",
   "execution_count": null,
   "id": "9e0c4815",
   "metadata": {},
   "outputs": [],
   "source": [
    "def train1(net, train_iter, loss_func, epochs, optimizer):\n",
    "    train_loss_list = []\n",
    "    test_acc_list = []\n",
    "    time_start = time.time()\n",
    "    for epoch in range(epochs):\n",
    "        train_l_sum, train_acc_sum, n, c = 0.0,0.0, 0,0\n",
    "        for X,y in train_iter:\n",
    "            y_hat = net.forward(X)\n",
    "            l = loss_func(y_hat,y)\n",
    "            optimizer.zero_grad()\n",
    "            l.backward()\n",
    "            optimizer.step()\n",
    "            train_l_sum += l.item()\n",
    "            train_acc_sum += (y_hat.argmax(dim=1) == y).sum().item()\n",
    "            n += y.shape[0]\n",
    "            c += 1\n",
    "        test_acc = evaluate_accuracy1(test_iter, net)\n",
    "        train_loss_list.append(train_l_sum / c)\n",
    "        test_acc_list.append(test_acc)\n",
    "        print('epoch %d, train loss %.4f, train acc %.3f, test acc %.3f' % (epoch + 1,train_l_sum / c, train_acc_sum / n, test_acc))\n",
    "    print(\"time spend: %.6f second\" % (time.time() - time_start))\n",
    "    draw_loss(train_loss_list, test_acc_list)"
   ]
  },
  {
   "cell_type": "code",
   "execution_count": null,
   "id": "5ad3514a",
   "metadata": {},
   "outputs": [],
   "source": [
    "# 神经网络模型\n",
    "def Net1(drop_prob): # 根据dropout的值来初始化\n",
    "    drop_prob = 0.2\n",
    "    net_pytorch = nn.Sequential(\n",
    "        FlattenLayer(),\n",
    "        nn.Linear(num_inputs, num_hiddens1),\n",
    "        nn.ReLU(),\n",
    "        nn.Dropout(drop_prob),\n",
    "        nn.Linear(num_hiddens1, num_hiddens2),\n",
    "        nn.ReLU(),\n",
    "        nn.Dropout(drop_prob),\n",
    "        nn.Linear(num_hiddens2, 10)\n",
    "    )\n",
    "    for param in net_pytorch.parameters():\n",
    "        nn.init.normal_(param, mean=0, std=0.01)\n",
    "    return net_pytorch"
   ]
  },
  {
   "cell_type": "code",
   "execution_count": null,
   "id": "a74de34c",
   "metadata": {},
   "outputs": [],
   "source": [
    "num_inputs = 784\n",
    "num_hiddens1 = 256\n",
    "num_hiddens2 = 256"
   ]
  },
  {
   "cell_type": "code",
   "execution_count": null,
   "id": "f486e71c",
   "metadata": {},
   "outputs": [],
   "source": [
    "net = Net1(0.2) # dropout为0.2\n",
    "optimizer = torch.optim.SGD(net.parameters(), lr)\n",
    "train1(net, train_iter, loss, epochs, optimizer)"
   ]
  },
  {
   "cell_type": "code",
   "execution_count": null,
   "id": "3c18871d",
   "metadata": {},
   "outputs": [],
   "source": [
    "net = Net1(0.5) # dropout为0.5\n",
    "optimizer = torch.optim.SGD(net.parameters(), lr)\n",
    "train1(net, train_iter, loss, epochs, optimizer)"
   ]
  },
  {
   "cell_type": "code",
   "execution_count": null,
   "id": "21ac3a5f",
   "metadata": {},
   "outputs": [],
   "source": [
    "net = Net1(0.8) # dropout为0.8\n",
    "optimizer = torch.optim.SGD(net.parameters(), lr)\n",
    "train1(net, train_iter, loss, epochs, optimizer)"
   ]
  }
 ],
 "metadata": {
  "kernelspec": {
   "display_name": "Python 3 (ipykernel)",
   "language": "python",
   "name": "python3"
  },
  "language_info": {
   "codemirror_mode": {
    "name": "ipython",
    "version": 3
   },
   "file_extension": ".py",
   "mimetype": "text/x-python",
   "name": "python",
   "nbconvert_exporter": "python",
   "pygments_lexer": "ipython3",
   "version": "3.9.13"
  }
 },
 "nbformat": 4,
 "nbformat_minor": 5
}
