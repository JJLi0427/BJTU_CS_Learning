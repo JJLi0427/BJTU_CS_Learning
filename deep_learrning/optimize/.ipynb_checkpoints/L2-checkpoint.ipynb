{
 "cells": [
  {
   "cell_type": "code",
   "execution_count": null,
   "id": "029defe4",
   "metadata": {},
   "outputs": [],
   "source": [
    "import torch\n",
    "import torch.nn as nn\n",
    "import numpy as np\n",
    "import torchvision\n",
    "from torchvision import transforms\n",
    "import time\n",
    "from torch.utils.data import TensorDataset, DataLoader"
   ]
  },
  {
   "cell_type": "code",
   "execution_count": null,
   "id": "46b0bef7",
   "metadata": {},
   "outputs": [],
   "source": [
    "# minist数据集\n",
    "mnist_train = torchvision.datasets.MNIST(root='~/Datasets/MNIST',train=True, download=True, transform=transforms.ToTensor())\n",
    "mnist_test = torchvision.datasets.MNIST(root='~/Datasets/MNIST',train=False, transform=transforms.ToTensor())\n",
    "# 通过DataLoader 读取小批量数据样本\n",
    "batch_size = 128\n",
    "train_iter = DataLoader(mnist_train, batch_size=batch_size, shuffle=True,num_workers=0)\n",
    "test_iter = DataLoader(mnist_test, batch_size=batch_size, shuffle=False,num_workers=0)"
   ]
  },
  {
   "cell_type": "code",
   "execution_count": null,
   "id": "b4b8eae7",
   "metadata": {},
   "outputs": [],
   "source": [
    "# 绘图函数\n",
    "import matplotlib.pyplot as plt\n",
    "def draw_loss(train_loss, test_acc):\n",
    "    x = range(len(train_loss))\n",
    "    # 创建一个1行2列的图像布局\n",
    "    plt.figure(figsize=(10, 5))\n",
    "    # 在第一个子图中绘制训练损失\n",
    "    plt.subplot(1, 2, 1)\n",
    "    plt.plot(x, train_loss, label=\"Train Loss\")\n",
    "    plt.xlabel(\"Epoch\")\n",
    "    plt.ylabel(\"Loss\")\n",
    "    plt.legend()\n",
    "    # 在第二个子图中绘制测试精度\n",
    "    plt.subplot(1, 2, 2)\n",
    "    plt.plot(x, test_acc, color='r', label=\"Test Acc\")\n",
    "    plt.xlabel(\"Epoch\")\n",
    "    plt.ylabel(\"Accuracy\")\n",
    "    plt.legend()\n",
    "    plt.tight_layout()\n",
    "    plt.show()"
   ]
  },
  {
   "cell_type": "code",
   "execution_count": null,
   "id": "7160542d",
   "metadata": {},
   "outputs": [],
   "source": [
    "# 测试准确率评价函数\n",
    "def evaluate_accuracy(data_iter, model):\n",
    "    acc_sum, n= 0.0, 0\n",
    "    for X, y in data_iter:\n",
    "        result = model.forward(X)\n",
    "        acc_sum += (result.argmax(dim=1) == y).float().sum().item()\n",
    "        n += y.shape[0]\n",
    "    return acc_sum / n"
   ]
  },
  {
   "cell_type": "code",
   "execution_count": null,
   "id": "d52c7f70",
   "metadata": {},
   "outputs": [],
   "source": [
    "class Net(nn.Module):\n",
    "    def __init__(self):\n",
    "        super(Net, self).__init__()\n",
    "        num_inputs, num_outputs, num_hiddens1, num_hiddens2 = 784, 10, 256, 256\n",
    "        self.W1 = nn.Parameter(torch.tensor(np.random.normal(0, 0.01, size=(num_hiddens1, num_inputs)), dtype=torch.float, requires_grad=True))\n",
    "        self.b1 = nn.Parameter(torch.zeros(num_hiddens1, requires_grad=True))\n",
    "        self.W2 = nn.Parameter(torch.tensor(np.random.normal(0, 0.01, size=(num_hiddens2, num_hiddens1)), dtype=torch.float, requires_grad=True))\n",
    "        self.b2 = nn.Parameter(torch.zeros(num_hiddens2, requires_grad=True))\n",
    "        self.W3 = nn.Parameter(torch.tensor(np.random.normal(0, 0.01, size=(num_outputs, num_hiddens2)), dtype=torch.float, requires_grad=True))\n",
    "        self.b3 = nn.Parameter(torch.zeros(num_outputs, requires_grad=True))\n",
    "        self.params = [self.W1, self.b1, self.W2, self.b2, self.W3, self.b3]\n",
    "        # 定义模型结构\n",
    "        self.input_layer = lambda x: x.view(x.shape[0], -1)\n",
    "        self.hidden_layer1 = lambda x: torch.matmul(x, self.W1.t()) + self.b1\n",
    "        self.hidden_layer2 = lambda x: torch.matmul(x, self.W2.t()) + self.b2\n",
    "        self.output_layer = lambda x: torch.matmul(x, self.W3.t()) + self.b3\n",
    "        \n",
    "    # 定义𝐿2范数惩罚项\n",
    "    def l2_penalty(self):\n",
    "        return (self.W1**2).sum() / 2 + (self.W2**2).sum() / 2 + (self.W3**2).sum() / 2\n",
    "    \n",
    "    def forward(self, x):\n",
    "        # 定义前向传播\n",
    "        x = self.input_layer(x)\n",
    "        x = nn.ReLU()(self.hidden_layer1(x))\n",
    "        x = nn.ReLU()(self.hidden_layer2(x))\n",
    "        x = self.output_layer(x)\n",
    "        return x"
   ]
  },
  {
   "cell_type": "code",
   "execution_count": null,
   "id": "797da628",
   "metadata": {},
   "outputs": [],
   "source": [
    "# 训练函数\n",
    "def train(net, train_iter, loss_func, epochs, optimizer, lambd):\n",
    "    train_loss_list = []\n",
    "    test_acc_list = []\n",
    "    time_start = time.time()\n",
    "    for epoch in range(epochs):\n",
    "        train_l_sum, train_acc_sum, n, c = 0.0,0.0, 0,0\n",
    "        for X,y in train_iter:\n",
    "            y_hat = net.forward(X)\n",
    "            l = loss_func(y_hat,y) + lambd * net.l2_penalty()\n",
    "            optimizer.zero_grad()\n",
    "            l.backward()\n",
    "            optimizer.step()\n",
    "            train_l_sum += l.item()\n",
    "            train_acc_sum += (y_hat.argmax(dim=1) == y).sum().item()\n",
    "            n += y.shape[0]\n",
    "            c += 1\n",
    "        test_acc = evaluate_accuracy(test_iter, net)\n",
    "        train_loss_list.append(train_l_sum / c)\n",
    "        test_acc_list.append(test_acc)\n",
    "        print('epoch %d, train loss %.4f, train acc %.3f, test acc %.3f' % (epoch + 1, train_l_sum / c, train_acc_sum / n, test_acc))\n",
    "    print(\"time spend: %.6f second\" % (time.time() - time_start))\n",
    "    print('L2 norm of weights:', torch.norm(net.W1).item() + torch.norm(net.W2).item() + torch.norm(net.W3).item())\n",
    "    draw_loss(train_loss_list, test_acc_list)"
   ]
  },
  {
   "cell_type": "code",
   "execution_count": null,
   "id": "30ec1e0f",
   "metadata": {},
   "outputs": [],
   "source": [
    "epochs = 20\n",
    "lr = 0.1\n",
    "loss = nn.CrossEntropyLoss()\n",
    "net = Net()\n",
    "optimizer = torch.optim.SGD(net.parameters(), lr)\n",
    "train(net, train_iter, loss, epochs, optimizer, 0)"
   ]
  },
  {
   "cell_type": "code",
   "execution_count": null,
   "id": "8c0134f2",
   "metadata": {},
   "outputs": [],
   "source": [
    "net = Net()\n",
    "optimizer = torch.optim.SGD(net.parameters(), lr)\n",
    "train(net, train_iter, loss, epochs, optimizer, 0.01)"
   ]
  },
  {
   "cell_type": "code",
   "execution_count": null,
   "id": "440630f3",
   "metadata": {},
   "outputs": [],
   "source": [
    "net = Net()\n",
    "optimizer = torch.optim.SGD(net.parameters(), lr)\n",
    "train(net, train_iter, loss, epochs, optimizer, 0.02)"
   ]
  },
  {
   "cell_type": "code",
   "execution_count": null,
   "id": "3d90d4e5",
   "metadata": {},
   "outputs": [],
   "source": [
    "net = Net()\n",
    "optimizer = torch.optim.SGD(net.parameters(), lr)\n",
    "train(net, train_iter, loss, epochs, optimizer, 0.05)"
   ]
  },
  {
   "cell_type": "code",
   "execution_count": null,
   "id": "71b42334",
   "metadata": {},
   "outputs": [],
   "source": [
    "net = Net()\n",
    "optimizer = torch.optim.SGD(net.parameters(), lr)\n",
    "train(net, train_iter, loss, epochs, optimizer, 0.1)"
   ]
  },
  {
   "cell_type": "code",
   "execution_count": null,
   "id": "718d868d",
   "metadata": {},
   "outputs": [],
   "source": [
    "# 使用torch.nn实现L2正则化，要修改训练函数\n",
    "def train1(net, train_iter, loss_func, epochs, optimizer):\n",
    "    train_loss_list = []\n",
    "    test_acc_list = []\n",
    "    time_start = time.time()\n",
    "    for epoch in range(epochs):\n",
    "        train_l_sum, train_acc_sum, n, c = 0.0,0.0, 0,0\n",
    "        for X,y in train_iter:\n",
    "            y_hat = net.forward(X)\n",
    "            l = loss_func(y_hat,y)\n",
    "            optimizer.zero_grad()\n",
    "            l.backward()\n",
    "            optimizer.step()\n",
    "            train_l_sum += l.item()\n",
    "            train_acc_sum += (y_hat.argmax(dim=1) == y).sum().item()\n",
    "            n += y.shape[0]\n",
    "            c += 1\n",
    "        test_acc = evaluate_accuracy(test_iter, net)\n",
    "        train_loss_list.append(train_l_sum / c)\n",
    "        test_acc_list.append(test_acc)\n",
    "        print('epoch %d, train loss %.4f, train acc %.3f, test acc %.3f' % (epoch + 1, train_l_sum / c, train_acc_sum / n, test_acc))\n",
    "    print(\"time spend: %.6f second\" % (time.time() - time_start))\n",
    "    print('L2 norm of weights:', torch.norm(net.W1).item() + torch.norm(net.W2).item() + torch.norm(net.W3).item())\n",
    "    draw_loss(train_loss_list, test_acc_list)"
   ]
  },
  {
   "cell_type": "code",
   "execution_count": null,
   "id": "bb24b6f6",
   "metadata": {},
   "outputs": [],
   "source": [
    "net = Net()\n",
    "optimizer = torch.optim.SGD(net.parameters(), lr, weight_decay = 0.01)\n",
    "train1(net, train_iter, loss, epochs, optimizer)"
   ]
  },
  {
   "cell_type": "code",
   "execution_count": null,
   "id": "6c1ebdee",
   "metadata": {},
   "outputs": [],
   "source": [
    "net = Net()\n",
    "optimizer = torch.optim.SGD(net.parameters(), lr, weight_decay = 0.02)\n",
    "train1(net, train_iter, loss, epochs, optimizer)"
   ]
  },
  {
   "cell_type": "code",
   "execution_count": null,
   "id": "a36b15f2",
   "metadata": {},
   "outputs": [],
   "source": [
    "net = Net()\n",
    "optimizer = torch.optim.SGD(net.parameters(), lr, weight_decay = 0.05)\n",
    "train1(net, train_iter, loss, epochs, optimizer)"
   ]
  }
 ],
 "metadata": {
  "kernelspec": {
   "display_name": "Python 3 (ipykernel)",
   "language": "python",
   "name": "python3"
  },
  "language_info": {
   "codemirror_mode": {
    "name": "ipython",
    "version": 3
   },
   "file_extension": ".py",
   "mimetype": "text/x-python",
   "name": "python",
   "nbconvert_exporter": "python",
   "pygments_lexer": "ipython3",
   "version": "3.9.13"
  }
 },
 "nbformat": 4,
 "nbformat_minor": 5
}
