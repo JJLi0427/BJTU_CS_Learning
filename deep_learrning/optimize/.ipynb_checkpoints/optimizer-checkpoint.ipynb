{
 "cells": [
  {
   "cell_type": "code",
   "execution_count": null,
   "id": "9b8917a8",
   "metadata": {},
   "outputs": [],
   "source": [
    "import torch\n",
    "import torch.nn as nn\n",
    "import numpy as np\n",
    "import torchvision\n",
    "from torchvision import transforms\n",
    "import time\n",
    "from torch.utils.data import TensorDataset, DataLoader"
   ]
  },
  {
   "cell_type": "code",
   "execution_count": null,
   "id": "d02ff10d",
   "metadata": {},
   "outputs": [],
   "source": [
    "# minist数据集\n",
    "mnist_train = torchvision.datasets.MNIST(root='~/Datasets/MNIST',train=True, download=True, transform=transforms.ToTensor())\n",
    "mnist_test = torchvision.datasets.MNIST(root='~/Datasets/MNIST',train=False, transform=transforms.ToTensor())\n",
    "# 通过DataLoader 读取小批量数据样本\n",
    "batch_size = 128\n",
    "train_iter = DataLoader(mnist_train, batch_size=batch_size, shuffle=True,num_workers=0)\n",
    "test_iter = DataLoader(mnist_test, batch_size=batch_size, shuffle=False,num_workers=0)"
   ]
  },
  {
   "cell_type": "code",
   "execution_count": null,
   "id": "bc92b21d",
   "metadata": {},
   "outputs": [],
   "source": [
    "# 绘图函数\n",
    "import matplotlib.pyplot as plt\n",
    "def draw_loss(train_loss, test_acc):\n",
    "    x = range(len(train_loss))\n",
    "    # 创建一个1行2列的图像布局\n",
    "    plt.figure(figsize=(10, 5))\n",
    "    # 在第一个子图中绘制训练损失\n",
    "    plt.subplot(1, 2, 1)\n",
    "    plt.plot(x, train_loss, label=\"Train Loss\")\n",
    "    plt.xlabel(\"Epoch\")\n",
    "    plt.ylabel(\"Loss\")\n",
    "    plt.legend()\n",
    "    # 在第二个子图中绘制测试精度\n",
    "    plt.subplot(1, 2, 2)\n",
    "    plt.plot(x, test_acc, color='r', label=\"Test Acc\")\n",
    "    plt.xlabel(\"Epoch\")\n",
    "    plt.ylabel(\"Accuracy\")\n",
    "    plt.legend()\n",
    "    plt.tight_layout()\n",
    "    plt.show()"
   ]
  },
  {
   "cell_type": "code",
   "execution_count": null,
   "id": "27e8571c",
   "metadata": {},
   "outputs": [],
   "source": [
    "# 测试准确率评价函数\n",
    "def evaluate_accuracy(data_iter, model):\n",
    "    acc_sum, n= 0.0, 0\n",
    "    for X, y in data_iter:\n",
    "        result = model.forward(X)\n",
    "        acc_sum += (result.argmax(dim=1) == y).float().sum().item()\n",
    "        n += y.shape[0]\n",
    "    return acc_sum / n"
   ]
  },
  {
   "cell_type": "code",
   "execution_count": null,
   "id": "1dd5b858",
   "metadata": {},
   "outputs": [],
   "source": [
    "class Net(nn.Module):\n",
    "    def __init__(self):\n",
    "        super(Net, self).__init__()\n",
    "        num_inputs, num_outputs, num_hiddens1, num_hiddens2 = 784, 10, 256, 256\n",
    "        self.W1 = nn.Parameter(torch.tensor(np.random.normal(0, 0.01, size=(num_hiddens1, num_inputs)), dtype=torch.float, requires_grad=True))\n",
    "        self.b1 = nn.Parameter(torch.zeros(num_hiddens1, requires_grad=True))\n",
    "        self.W2 = nn.Parameter(torch.tensor(np.random.normal(0, 0.01, size=(num_hiddens2, num_hiddens1)), dtype=torch.float, requires_grad=True))\n",
    "        self.b2 = nn.Parameter(torch.zeros(num_hiddens2, requires_grad=True))\n",
    "        self.W3 = nn.Parameter(torch.tensor(np.random.normal(0, 0.01, size=(num_outputs, num_hiddens2)), dtype=torch.float, requires_grad=True))\n",
    "        self.b3 = nn.Parameter(torch.zeros(num_outputs, requires_grad=True))\n",
    "        self.params = [self.W1, self.b1, self.W2, self.b2, self.W3, self.b3]\n",
    "        # 定义模型结构\n",
    "        self.input_layer = lambda x: x.view(x.shape[0], -1)\n",
    "        self.hidden_layer1 = lambda x: torch.matmul(x, self.W1.t()) + self.b1\n",
    "        self.hidden_layer2 = lambda x: torch.matmul(x, self.W2.t()) + self.b2\n",
    "        self.output_layer = lambda x: torch.matmul(x, self.W3.t()) + self.b3\n",
    "    \n",
    "    def forward(self, x):\n",
    "        # 定义前向传播\n",
    "        x = self.input_layer(x)\n",
    "        x = nn.ReLU()(self.hidden_layer1(x))\n",
    "        x = nn.ReLU()(self.hidden_layer2(x))\n",
    "        x = self.output_layer(x)\n",
    "        return x"
   ]
  },
  {
   "cell_type": "code",
   "execution_count": null,
   "id": "65849e33",
   "metadata": {},
   "outputs": [],
   "source": [
    "# 手动实现RMSprop算法\n",
    "def init_rmsprop_states(params):\n",
    "    states = []\n",
    "    for p in params:\n",
    "        states.append(torch.zeros_like(p))\n",
    "    return states\n",
    "def rmsprop(params, states, lr, gamma, eps=1e-6):\n",
    "    for p, s in zip(params, states):\n",
    "        with torch.no_grad():\n",
    "            s[:] = gamma * s + (1 - gamma) * torch.square(p.grad)\n",
    "            p[:] -= lr * p.grad / torch.sqrt(s + eps)\n",
    "        p.grad.data.zero_()"
   ]
  },
  {
   "cell_type": "code",
   "execution_count": null,
   "id": "bd35820f",
   "metadata": {},
   "outputs": [],
   "source": [
    "# 训练函数\n",
    "def train1(net, train_iter, loss, epochs, gamma):\n",
    "    train_loss_list = []\n",
    "    test_acc_list = []\n",
    "    time_start = time.time()\n",
    "    params = list(net.parameters())\n",
    "    states = init_rmsprop_states(params)\n",
    "    for epoch in range(epochs):\n",
    "        train_l_sum, train_acc_sum, n, c = 0.0, 0.0, 0, 0\n",
    "        for X, y in train_iter:\n",
    "            y_hat = net(X)\n",
    "            l = loss(y_hat, y)\n",
    "            l.backward()\n",
    "            rmsprop(params, states, lr, gamma)\n",
    "            for p in params:\n",
    "                if p.grad is not None:\n",
    "                    p.grad.data.zero_()\n",
    "            train_l_sum += l.item()\n",
    "            train_acc_sum += (y_hat.argmax(dim=1) == y).sum().item()\n",
    "            n += y.shape[0]\n",
    "            c += 1\n",
    "        test_acc = evaluate_accuracy(test_iter, net)\n",
    "        train_loss_list.append(train_l_sum / c)\n",
    "        test_acc_list.append(test_acc)\n",
    "        print('epoch %d, train loss %.4f, train acc %.3f, test acc %.3f' % (epoch + 1, train_l_sum / c, train_acc_sum / n, test_acc))\n",
    "    print(\"time spend: %.6f second\" % (time.time() - time_start))\n",
    "    draw_loss(train_loss_list, test_acc_list)"
   ]
  },
  {
   "cell_type": "code",
   "execution_count": null,
   "id": "a083d99b",
   "metadata": {},
   "outputs": [],
   "source": [
    "epochs = 20\n",
    "lr = 0.01\n",
    "loss = nn.CrossEntropyLoss()\n",
    "net = Net()\n",
    "gamma = 0.9\n",
    "train1(net, train_iter, loss, epochs, gamma)"
   ]
  },
  {
   "cell_type": "code",
   "execution_count": null,
   "id": "322f789a",
   "metadata": {},
   "outputs": [],
   "source": [
    "def train2(net, train_iter, loss, epochs, optimizer):\n",
    "    train_loss_list = []\n",
    "    test_acc_list = []\n",
    "    time_start = time.time()\n",
    "    for epoch in range(epochs):\n",
    "        train_l_sum, train_acc_sum, n, c = 0.0,0.0, 0,0\n",
    "        for X,y in train_iter:\n",
    "            y_hat = net.forward(X)\n",
    "            l = loss(y_hat,y)\n",
    "            optimizer.zero_grad()\n",
    "            l.backward()\n",
    "            optimizer.step()\n",
    "            train_l_sum += l.item()\n",
    "            train_acc_sum += (y_hat.argmax(dim=1) == y).sum().item()\n",
    "            n += y.shape[0]\n",
    "            c += 1\n",
    "        test_acc = evaluate_accuracy(test_iter, net)\n",
    "        train_loss_list.append(train_l_sum / c)\n",
    "        test_acc_list.append(test_acc)\n",
    "        print('epoch %d, train loss %.4f, train acc %.3f, test acc %.3f' % (epoch + 1, train_l_sum / c, train_acc_sum / n, test_acc))\n",
    "    print(\"time spend: %.6f second\" % (time.time() - time_start))\n",
    "    draw_loss(train_loss_list, test_acc_list)"
   ]
  },
  {
   "cell_type": "code",
   "execution_count": null,
   "id": "e2f89f38",
   "metadata": {},
   "outputs": [],
   "source": [
    "net = Net()\n",
    "optimizer = torch.optim.RMSprop(net.parameters(), lr, alpha=0.99, eps=1e-6)\n",
    "train2(net, train_iter, loss, epochs, optimizer)"
   ]
  },
  {
   "cell_type": "code",
   "execution_count": null,
   "id": "a4aa0266",
   "metadata": {},
   "outputs": [],
   "source": [
    "# 手动实现momentum算法\n",
    "def init_momentum_states(params):\n",
    "    states = []\n",
    "    for p in params:\n",
    "        states.append(torch.zeros_like(p))\n",
    "    return states\n",
    "def sgd_momentum(params, states , lr, momentum):\n",
    "    for p, v in zip(params, states):\n",
    "        with torch.no_grad():\n",
    "            v[:] = momentum * v - p.grad\n",
    "            p[:] += lr * v\n",
    "        p.grad.data.zero_()"
   ]
  },
  {
   "cell_type": "code",
   "execution_count": null,
   "id": "87eda403",
   "metadata": {},
   "outputs": [],
   "source": [
    "def train3(net, train_iter, loss, epochs, momentum):\n",
    "    train_loss_list = []\n",
    "    test_acc_list = []\n",
    "    time_start = time.time()\n",
    "    params = list(net.parameters())\n",
    "    states = init_rmsprop_states(params)\n",
    "    for epoch in range(epochs):\n",
    "        train_l_sum, train_acc_sum, n, c = 0.0, 0.0, 0, 0\n",
    "        for X, y in train_iter:\n",
    "            y_hat = net(X)\n",
    "            l = loss(y_hat, y)\n",
    "            l.backward()\n",
    "            sgd_momentum(params, states, lr, momentum)\n",
    "            for p in params:\n",
    "                if p.grad is not None:\n",
    "                    p.grad.data.zero_()\n",
    "            train_l_sum += l.item()\n",
    "            train_acc_sum += (y_hat.argmax(dim=1) == y).sum().item()\n",
    "            n += y.shape[0]\n",
    "            c += 1\n",
    "        test_acc = evaluate_accuracy(test_iter, net)\n",
    "        train_loss_list.append(train_l_sum / c)\n",
    "        test_acc_list.append(test_acc)\n",
    "        print('epoch %d, train loss %.4f, train acc %.3f, test acc %.3f' % (epoch + 1, train_l_sum / c, train_acc_sum / n, test_acc))\n",
    "    print(\"time spend: %.6f second\" % (time.time() - time_start))\n",
    "    draw_loss(train_loss_list, test_acc_list)"
   ]
  },
  {
   "cell_type": "code",
   "execution_count": null,
   "id": "83174bd6",
   "metadata": {},
   "outputs": [],
   "source": [
    "net = Net()\n",
    "momentum = 0.5\n",
    "train3(net, train_iter, loss, epochs, momentum)"
   ]
  },
  {
   "cell_type": "code",
   "execution_count": null,
   "id": "6aae75fc",
   "metadata": {},
   "outputs": [],
   "source": [
    "net = Net()\n",
    "optimizer = torch.optim.SGD(net.parameters(), lr, momentum=0.5)\n",
    "train2(net, train_iter, loss, epochs, optimizer)"
   ]
  },
  {
   "cell_type": "code",
   "execution_count": null,
   "id": "bb60f4cf",
   "metadata": {},
   "outputs": [],
   "source": [
    "# 手动实现Adam算法\n",
    "def init_adam_states(params):\n",
    "    states = []\n",
    "    for p in params:\n",
    "        states.append((torch.zeros_like(p), torch.zeros_like(p)))\n",
    "    return states\n",
    "def adam(params, states , lr, t):\n",
    "    beta1, beta2, eps =0.9, 0.999, 1e-6 \n",
    "    for p, (v, s) in zip(params, states):\n",
    "        with torch.no_grad():\n",
    "            # Compute the first and second moment\n",
    "            v[:] = beta1 * v + (1 - beta1) * p.grad\n",
    "            s[:] = beta2 * s + (1 - beta2) * p.grad**2\n",
    "            # Bias correction\n",
    "            v_hat = v / (1 - beta1 ** t)\n",
    "            s_hat = s / (1 - beta2 ** t)\n",
    "            # Update the parameters\n",
    "            p -= lr * v_hat / (torch.sqrt(s_hat) + eps)\n",
    "        p.grad.data.zero_()\n",
    "    t += 1"
   ]
  },
  {
   "cell_type": "code",
   "execution_count": null,
   "id": "7a504f52",
   "metadata": {},
   "outputs": [],
   "source": [
    "def train3(net, train_iter, loss, epochs, t):\n",
    "    train_loss_list = []\n",
    "    test_acc_list = []\n",
    "    time_start = time.time()\n",
    "    params = list(net.parameters())\n",
    "    states = init_adam_states(params)\n",
    "    for epoch in range(epochs):\n",
    "        train_l_sum, train_acc_sum, n, c = 0.0,0.0, 0,0\n",
    "        for X, y in train_iter:\n",
    "            y_hat = net(X)\n",
    "            l = loss(y_hat, y)\n",
    "            for p in params:\n",
    "                if p.grad is not None:\n",
    "                    p.grad.data.zero_()\n",
    "            l.backward()\n",
    "            adam(params, states, lr, t)\n",
    "            train_l_sum += l.item()\n",
    "            train_acc_sum += (y_hat.argmax(dim=1) == y).sum().item()\n",
    "            n += y.shape[0]\n",
    "            c += 1\n",
    "        test_acc = evaluate_accuracy(test_iter, net)\n",
    "        train_loss_list.append(train_l_sum / c)\n",
    "        test_acc_list.append(test_acc)\n",
    "        print('epoch %d, train loss %.4f, train acc %.3f, test acc %.3f' % (epoch + 1, train_l_sum / c, train_acc_sum / n, test_acc))\n",
    "    print(\"time spend: %.6f second\" % (time.time() - time_start))\n",
    "    draw_loss(train_loss_list, test_acc_list)"
   ]
  },
  {
   "cell_type": "code",
   "execution_count": null,
   "id": "e788c3d6",
   "metadata": {},
   "outputs": [],
   "source": [
    "net = Net()\n",
    "t = 1\n",
    "train3(net, train_iter, loss, epochs, t)"
   ]
  },
  {
   "cell_type": "code",
   "execution_count": null,
   "id": "46640bb2",
   "metadata": {},
   "outputs": [],
   "source": [
    "net = Net()\n",
    "optimizer = torch.optim.Adam(net.parameters(), lr)\n",
    "train2(net, train_iter, loss, epochs, optimizer)"
   ]
  },
  {
   "cell_type": "code",
   "execution_count": null,
   "id": "a3ae03a8",
   "metadata": {},
   "outputs": [],
   "source": []
  }
 ],
 "metadata": {
  "kernelspec": {
   "display_name": "Python 3 (ipykernel)",
   "language": "python",
   "name": "python3"
  },
  "language_info": {
   "codemirror_mode": {
    "name": "ipython",
    "version": 3
   },
   "file_extension": ".py",
   "mimetype": "text/x-python",
   "name": "python",
   "nbconvert_exporter": "python",
   "pygments_lexer": "ipython3",
   "version": "3.9.13"
  }
 },
 "nbformat": 4,
 "nbformat_minor": 5
}
